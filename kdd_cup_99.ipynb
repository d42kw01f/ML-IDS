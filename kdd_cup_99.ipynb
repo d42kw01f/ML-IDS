{
  "nbformat": 4,
  "nbformat_minor": 0,
  "metadata": {
    "colab": {
      "name": "kdd-cup-99.ipynb",
      "provenance": [],
      "collapsed_sections": [],
      "machine_shape": "hm"
    },
    "kernelspec": {
      "name": "python3",
      "display_name": "Python 3"
    },
    "language_info": {
      "name": "python"
    },
    "accelerator": "GPU"
  },
  "cells": [
    {
      "cell_type": "code",
      "metadata": {
        "id": "agUmGlS-gFI4"
      },
      "source": [
        "# Import packages\n",
        "import os \n",
        "import warnings\n",
        "import gc\n",
        "\n",
        "import pickle\n",
        "import pandas as pd \n",
        "import numpy as np \n",
        "import matplotlib.pyplot as plt\n",
        "from plotly.subplots import make_subplots\n",
        "import plotly.express as px \n",
        "import plotly.graph_objects as go\n",
        "from sklearn.preprocessing import LabelEncoder\n",
        "from sklearn.model_selection import train_test_split, KFold\n",
        "from sklearn.ensemble import RandomForestClassifier\n",
        "from sklearn.metrics import precision_recall_fscore_support, classification_report\n",
        "import seaborn as sns\n",
        "\n",
        "# Configuration\n",
        "warnings.simplefilter('ignore')\n",
        "pd.set_option('max_columns', 50)"
      ],
      "execution_count": null,
      "outputs": []
    },
    {
      "cell_type": "markdown",
      "metadata": {
        "id": "vuCj9r24h9a4"
      },
      "source": [
        "## Working with NSL KDD-CUP 99"
      ]
    },
    {
      "cell_type": "code",
      "metadata": {
        "id": "Gm3p11hai_ya"
      },
      "source": [
        "features = ['duration','protocol_type','service','flag','src_bytes','dst_bytes','land','wrong_fragment','urgent','hot','num_failed_logins','logged_in','num_compromised','root_shell','su_attempted',\n",
        "'num_root','num_file_creations','num_shells','num_access_files','num_outbound_cmds',\n",
        "'is_host_login',\n",
        "'is_guest_login',\n",
        "'count',\n",
        "'srv_count',\n",
        "'serror_rate',\n",
        "'srv_serror_rate',\n",
        "'rerror_rate',\n",
        "'srv_rerror_rate',\n",
        "'same_srv_rate',\n",
        "'diff_srv_rate',\n",
        "'srv_diff_host_rate',\n",
        "'dst_host_count',\n",
        "'dst_host_srv_count',\n",
        "'dst_host_same_srv_rate',\n",
        "'dst_host_diff_srv_rate',\n",
        "'dst_host_same_src_port_rate',\n",
        "'dst_host_srv_diff_host_rate',\n",
        "'dst_host_serror_rate',\n",
        "'dst_host_srv_serror_rate',\n",
        "'dst_host_rerror_rate',\n",
        "'dst_host_srv_rerror_rate',\n",
        "'intrusion_type']"
      ],
      "execution_count": null,
      "outputs": []
    },
    {
      "cell_type": "code",
      "metadata": {
        "colab": {
          "base_uri": "https://localhost:8080/",
          "height": 226
        },
        "id": "FQYGbW6ZiD0X",
        "outputId": "586eb96c-7edd-449a-e04c-0e89a02899b7"
      },
      "source": [
        "full_df = pd.read_csv('/content/kddcup.csv', names=features, header=None)\n",
        "full_df.head()"
      ],
      "execution_count": null,
      "outputs": [
        {
          "output_type": "execute_result",
          "data": {
            "text/html": [
              "<div>\n",
              "<style scoped>\n",
              "    .dataframe tbody tr th:only-of-type {\n",
              "        vertical-align: middle;\n",
              "    }\n",
              "\n",
              "    .dataframe tbody tr th {\n",
              "        vertical-align: top;\n",
              "    }\n",
              "\n",
              "    .dataframe thead th {\n",
              "        text-align: right;\n",
              "    }\n",
              "</style>\n",
              "<table border=\"1\" class=\"dataframe\">\n",
              "  <thead>\n",
              "    <tr style=\"text-align: right;\">\n",
              "      <th></th>\n",
              "      <th>duration</th>\n",
              "      <th>protocol_type</th>\n",
              "      <th>service</th>\n",
              "      <th>flag</th>\n",
              "      <th>src_bytes</th>\n",
              "      <th>dst_bytes</th>\n",
              "      <th>land</th>\n",
              "      <th>wrong_fragment</th>\n",
              "      <th>urgent</th>\n",
              "      <th>hot</th>\n",
              "      <th>num_failed_logins</th>\n",
              "      <th>logged_in</th>\n",
              "      <th>num_compromised</th>\n",
              "      <th>root_shell</th>\n",
              "      <th>su_attempted</th>\n",
              "      <th>num_root</th>\n",
              "      <th>num_file_creations</th>\n",
              "      <th>num_shells</th>\n",
              "      <th>num_access_files</th>\n",
              "      <th>num_outbound_cmds</th>\n",
              "      <th>is_host_login</th>\n",
              "      <th>is_guest_login</th>\n",
              "      <th>count</th>\n",
              "      <th>srv_count</th>\n",
              "      <th>serror_rate</th>\n",
              "      <th>srv_serror_rate</th>\n",
              "      <th>rerror_rate</th>\n",
              "      <th>srv_rerror_rate</th>\n",
              "      <th>same_srv_rate</th>\n",
              "      <th>diff_srv_rate</th>\n",
              "      <th>srv_diff_host_rate</th>\n",
              "      <th>dst_host_count</th>\n",
              "      <th>dst_host_srv_count</th>\n",
              "      <th>dst_host_same_srv_rate</th>\n",
              "      <th>dst_host_diff_srv_rate</th>\n",
              "      <th>dst_host_same_src_port_rate</th>\n",
              "      <th>dst_host_srv_diff_host_rate</th>\n",
              "      <th>dst_host_serror_rate</th>\n",
              "      <th>dst_host_srv_serror_rate</th>\n",
              "      <th>dst_host_rerror_rate</th>\n",
              "      <th>dst_host_srv_rerror_rate</th>\n",
              "      <th>intrusion_type</th>\n",
              "    </tr>\n",
              "  </thead>\n",
              "  <tbody>\n",
              "    <tr>\n",
              "      <th>0</th>\n",
              "      <td>0</td>\n",
              "      <td>tcp</td>\n",
              "      <td>http</td>\n",
              "      <td>SF</td>\n",
              "      <td>181</td>\n",
              "      <td>5450</td>\n",
              "      <td>0</td>\n",
              "      <td>0</td>\n",
              "      <td>0</td>\n",
              "      <td>0</td>\n",
              "      <td>0</td>\n",
              "      <td>1</td>\n",
              "      <td>0</td>\n",
              "      <td>0</td>\n",
              "      <td>0</td>\n",
              "      <td>0</td>\n",
              "      <td>0</td>\n",
              "      <td>0</td>\n",
              "      <td>0</td>\n",
              "      <td>0</td>\n",
              "      <td>0</td>\n",
              "      <td>0</td>\n",
              "      <td>8</td>\n",
              "      <td>8</td>\n",
              "      <td>0.0</td>\n",
              "      <td>0.0</td>\n",
              "      <td>0.0</td>\n",
              "      <td>0.0</td>\n",
              "      <td>1.0</td>\n",
              "      <td>0.0</td>\n",
              "      <td>0.0</td>\n",
              "      <td>9.0</td>\n",
              "      <td>9.0</td>\n",
              "      <td>1.0</td>\n",
              "      <td>0.0</td>\n",
              "      <td>0.11</td>\n",
              "      <td>0.0</td>\n",
              "      <td>0.0</td>\n",
              "      <td>0.0</td>\n",
              "      <td>0.0</td>\n",
              "      <td>0.0</td>\n",
              "      <td>normal.</td>\n",
              "    </tr>\n",
              "    <tr>\n",
              "      <th>1</th>\n",
              "      <td>0</td>\n",
              "      <td>tcp</td>\n",
              "      <td>http</td>\n",
              "      <td>SF</td>\n",
              "      <td>239</td>\n",
              "      <td>486</td>\n",
              "      <td>0</td>\n",
              "      <td>0</td>\n",
              "      <td>0</td>\n",
              "      <td>0</td>\n",
              "      <td>0</td>\n",
              "      <td>1</td>\n",
              "      <td>0</td>\n",
              "      <td>0</td>\n",
              "      <td>0</td>\n",
              "      <td>0</td>\n",
              "      <td>0</td>\n",
              "      <td>0</td>\n",
              "      <td>0</td>\n",
              "      <td>0</td>\n",
              "      <td>0</td>\n",
              "      <td>0</td>\n",
              "      <td>8</td>\n",
              "      <td>8</td>\n",
              "      <td>0.0</td>\n",
              "      <td>0.0</td>\n",
              "      <td>0.0</td>\n",
              "      <td>0.0</td>\n",
              "      <td>1.0</td>\n",
              "      <td>0.0</td>\n",
              "      <td>0.0</td>\n",
              "      <td>19.0</td>\n",
              "      <td>19.0</td>\n",
              "      <td>1.0</td>\n",
              "      <td>0.0</td>\n",
              "      <td>0.05</td>\n",
              "      <td>0.0</td>\n",
              "      <td>0.0</td>\n",
              "      <td>0.0</td>\n",
              "      <td>0.0</td>\n",
              "      <td>0.0</td>\n",
              "      <td>normal.</td>\n",
              "    </tr>\n",
              "    <tr>\n",
              "      <th>2</th>\n",
              "      <td>0</td>\n",
              "      <td>tcp</td>\n",
              "      <td>http</td>\n",
              "      <td>SF</td>\n",
              "      <td>235</td>\n",
              "      <td>1337</td>\n",
              "      <td>0</td>\n",
              "      <td>0</td>\n",
              "      <td>0</td>\n",
              "      <td>0</td>\n",
              "      <td>0</td>\n",
              "      <td>1</td>\n",
              "      <td>0</td>\n",
              "      <td>0</td>\n",
              "      <td>0</td>\n",
              "      <td>0</td>\n",
              "      <td>0</td>\n",
              "      <td>0</td>\n",
              "      <td>0</td>\n",
              "      <td>0</td>\n",
              "      <td>0</td>\n",
              "      <td>0</td>\n",
              "      <td>8</td>\n",
              "      <td>8</td>\n",
              "      <td>0.0</td>\n",
              "      <td>0.0</td>\n",
              "      <td>0.0</td>\n",
              "      <td>0.0</td>\n",
              "      <td>1.0</td>\n",
              "      <td>0.0</td>\n",
              "      <td>0.0</td>\n",
              "      <td>29.0</td>\n",
              "      <td>29.0</td>\n",
              "      <td>1.0</td>\n",
              "      <td>0.0</td>\n",
              "      <td>0.03</td>\n",
              "      <td>0.0</td>\n",
              "      <td>0.0</td>\n",
              "      <td>0.0</td>\n",
              "      <td>0.0</td>\n",
              "      <td>0.0</td>\n",
              "      <td>normal.</td>\n",
              "    </tr>\n",
              "    <tr>\n",
              "      <th>3</th>\n",
              "      <td>0</td>\n",
              "      <td>tcp</td>\n",
              "      <td>http</td>\n",
              "      <td>SF</td>\n",
              "      <td>219</td>\n",
              "      <td>1337</td>\n",
              "      <td>0</td>\n",
              "      <td>0</td>\n",
              "      <td>0</td>\n",
              "      <td>0</td>\n",
              "      <td>0</td>\n",
              "      <td>1</td>\n",
              "      <td>0</td>\n",
              "      <td>0</td>\n",
              "      <td>0</td>\n",
              "      <td>0</td>\n",
              "      <td>0</td>\n",
              "      <td>0</td>\n",
              "      <td>0</td>\n",
              "      <td>0</td>\n",
              "      <td>0</td>\n",
              "      <td>0</td>\n",
              "      <td>6</td>\n",
              "      <td>6</td>\n",
              "      <td>0.0</td>\n",
              "      <td>0.0</td>\n",
              "      <td>0.0</td>\n",
              "      <td>0.0</td>\n",
              "      <td>1.0</td>\n",
              "      <td>0.0</td>\n",
              "      <td>0.0</td>\n",
              "      <td>39.0</td>\n",
              "      <td>39.0</td>\n",
              "      <td>1.0</td>\n",
              "      <td>0.0</td>\n",
              "      <td>0.03</td>\n",
              "      <td>0.0</td>\n",
              "      <td>0.0</td>\n",
              "      <td>0.0</td>\n",
              "      <td>0.0</td>\n",
              "      <td>0.0</td>\n",
              "      <td>normal.</td>\n",
              "    </tr>\n",
              "    <tr>\n",
              "      <th>4</th>\n",
              "      <td>0</td>\n",
              "      <td>tcp</td>\n",
              "      <td>http</td>\n",
              "      <td>SF</td>\n",
              "      <td>217</td>\n",
              "      <td>2032</td>\n",
              "      <td>0</td>\n",
              "      <td>0</td>\n",
              "      <td>0</td>\n",
              "      <td>0</td>\n",
              "      <td>0</td>\n",
              "      <td>1</td>\n",
              "      <td>0</td>\n",
              "      <td>0</td>\n",
              "      <td>0</td>\n",
              "      <td>0</td>\n",
              "      <td>0</td>\n",
              "      <td>0</td>\n",
              "      <td>0</td>\n",
              "      <td>0</td>\n",
              "      <td>0</td>\n",
              "      <td>0</td>\n",
              "      <td>6</td>\n",
              "      <td>6</td>\n",
              "      <td>0.0</td>\n",
              "      <td>0.0</td>\n",
              "      <td>0.0</td>\n",
              "      <td>0.0</td>\n",
              "      <td>1.0</td>\n",
              "      <td>0.0</td>\n",
              "      <td>0.0</td>\n",
              "      <td>49.0</td>\n",
              "      <td>49.0</td>\n",
              "      <td>1.0</td>\n",
              "      <td>0.0</td>\n",
              "      <td>0.02</td>\n",
              "      <td>0.0</td>\n",
              "      <td>0.0</td>\n",
              "      <td>0.0</td>\n",
              "      <td>0.0</td>\n",
              "      <td>0.0</td>\n",
              "      <td>normal.</td>\n",
              "    </tr>\n",
              "  </tbody>\n",
              "</table>\n",
              "</div>"
            ],
            "text/plain": [
              "   duration protocol_type service flag  src_bytes  dst_bytes  land  \\\n",
              "0         0           tcp    http   SF        181       5450     0   \n",
              "1         0           tcp    http   SF        239        486     0   \n",
              "2         0           tcp    http   SF        235       1337     0   \n",
              "3         0           tcp    http   SF        219       1337     0   \n",
              "4         0           tcp    http   SF        217       2032     0   \n",
              "\n",
              "   wrong_fragment  urgent  hot  num_failed_logins  logged_in  num_compromised  \\\n",
              "0               0       0    0                  0          1                0   \n",
              "1               0       0    0                  0          1                0   \n",
              "2               0       0    0                  0          1                0   \n",
              "3               0       0    0                  0          1                0   \n",
              "4               0       0    0                  0          1                0   \n",
              "\n",
              "   root_shell  su_attempted  num_root  num_file_creations  num_shells  \\\n",
              "0           0             0         0                   0           0   \n",
              "1           0             0         0                   0           0   \n",
              "2           0             0         0                   0           0   \n",
              "3           0             0         0                   0           0   \n",
              "4           0             0         0                   0           0   \n",
              "\n",
              "   num_access_files  num_outbound_cmds  is_host_login  is_guest_login  count  \\\n",
              "0                 0                  0              0               0      8   \n",
              "1                 0                  0              0               0      8   \n",
              "2                 0                  0              0               0      8   \n",
              "3                 0                  0              0               0      6   \n",
              "4                 0                  0              0               0      6   \n",
              "\n",
              "   srv_count  serror_rate  srv_serror_rate  rerror_rate  srv_rerror_rate  \\\n",
              "0          8          0.0              0.0          0.0              0.0   \n",
              "1          8          0.0              0.0          0.0              0.0   \n",
              "2          8          0.0              0.0          0.0              0.0   \n",
              "3          6          0.0              0.0          0.0              0.0   \n",
              "4          6          0.0              0.0          0.0              0.0   \n",
              "\n",
              "   same_srv_rate  diff_srv_rate  srv_diff_host_rate  dst_host_count  \\\n",
              "0            1.0            0.0                 0.0             9.0   \n",
              "1            1.0            0.0                 0.0            19.0   \n",
              "2            1.0            0.0                 0.0            29.0   \n",
              "3            1.0            0.0                 0.0            39.0   \n",
              "4            1.0            0.0                 0.0            49.0   \n",
              "\n",
              "   dst_host_srv_count  dst_host_same_srv_rate  dst_host_diff_srv_rate  \\\n",
              "0                 9.0                     1.0                     0.0   \n",
              "1                19.0                     1.0                     0.0   \n",
              "2                29.0                     1.0                     0.0   \n",
              "3                39.0                     1.0                     0.0   \n",
              "4                49.0                     1.0                     0.0   \n",
              "\n",
              "   dst_host_same_src_port_rate  dst_host_srv_diff_host_rate  \\\n",
              "0                         0.11                          0.0   \n",
              "1                         0.05                          0.0   \n",
              "2                         0.03                          0.0   \n",
              "3                         0.03                          0.0   \n",
              "4                         0.02                          0.0   \n",
              "\n",
              "   dst_host_serror_rate  dst_host_srv_serror_rate  dst_host_rerror_rate  \\\n",
              "0                   0.0                       0.0                   0.0   \n",
              "1                   0.0                       0.0                   0.0   \n",
              "2                   0.0                       0.0                   0.0   \n",
              "3                   0.0                       0.0                   0.0   \n",
              "4                   0.0                       0.0                   0.0   \n",
              "\n",
              "   dst_host_srv_rerror_rate intrusion_type  \n",
              "0                       0.0        normal.  \n",
              "1                       0.0        normal.  \n",
              "2                       0.0        normal.  \n",
              "3                       0.0        normal.  \n",
              "4                       0.0        normal.  "
            ]
          },
          "metadata": {},
          "execution_count": 9
        }
      ]
    },
    {
      "cell_type": "markdown",
      "metadata": {
        "id": "5Q2a1PICjiLi"
      },
      "source": [
        "## Exploratory Data Analysis"
      ]
    },
    {
      "cell_type": "code",
      "metadata": {
        "colab": {
          "base_uri": "https://localhost:8080/",
          "height": 909
        },
        "id": "P555jvmbjhZI",
        "outputId": "3fb14ffe-723b-4d09-da32-14ffe446464f"
      },
      "source": [
        "plt.figure(figsize=(20,15))\n",
        "class_distribution = full_df['intrusion_type'].value_counts()\n",
        "class_distribution.plot(kind='bar')\n",
        "plt.xlabel('Class')\n",
        "plt.ylabel('Data points per Class')\n",
        "plt.title('Distribution of yi in train data')\n",
        "plt.grid()\n",
        "plt.show()"
      ],
      "execution_count": null,
      "outputs": [
        {
          "output_type": "display_data",
          "data": {
            "image/png": "[encoded data removed]",
            "text/plain": [
              "<Figure size 1440x1080 with 1 Axes>"
            ]
          },
          "metadata": {
            "needs_background": "light"
          }
        }
      ]
    },
    {
      "cell_type": "markdown",
      "metadata": {
        "id": "XCjD-MAgl0K1"
      },
      "source": [
        "## Downloading the binary labeled Dataset from Kaggle directly."
      ]
    },
    {
      "cell_type": "code",
      "metadata": {
        "colab": {
          "base_uri": "https://localhost:8080/"
        },
        "id": "-OTJG98uHR92",
        "outputId": "e91e8d82-1be3-434a-e847-3fe2666a16ed"
      },
      "source": [
        "!chmod 600 /content/kaggle.json\n",
        "!mkdir ~/.kaggle\n",
        "!cp kaggle.json ~/.kaggle/\n",
        "!chmod 600 ~/.kaggle/kaggle.json\n",
        "!kaggle datasets download -d sampadab17/network-intrusion-detection\n",
        "!unzip /content/network-intrusion-detection.zip"
      ],
      "execution_count": null,
      "outputs": [
        {
          "output_type": "stream",
          "name": "stdout",
          "text": [
            "mkdir: cannot create directory ‘/root/.kaggle’: File exists\n",
            "network-intrusion-detection.zip: Skipping, found more recently modified local copy (use --force to force download)\n",
            "Archive:  /content/network-intrusion-detection.zip\n",
            "replace Test_data.csv? [y]es, [n]o, [A]ll, [N]one, [r]ename: n\n",
            "replace Train_data.csv? [y]es, [n]o, [A]ll, [N]one, [r]ename: n\n"
          ]
        }
      ]
    },
    {
      "cell_type": "markdown",
      "metadata": {
        "id": "syp3in9Il5wA"
      },
      "source": [
        "## Reading the Dataset"
      ]
    },
    {
      "cell_type": "code",
      "metadata": {
        "id": "kVIa7YEIJVb1"
      },
      "source": [
        "train = pd.read_csv(\"/content/Train_data.csv\")\n",
        "test = pd.read_csv(\"/content/Test_data.csv\")"
      ],
      "execution_count": null,
      "outputs": []
    },
    {
      "cell_type": "code",
      "metadata": {
        "colab": {
          "base_uri": "https://localhost:8080/",
          "height": 226
        },
        "id": "boW4-a34-qiM",
        "outputId": "ba1cd69c-5b8c-4888-d40e-a414d7cf9b9f"
      },
      "source": [
        "train.head()"
      ],
      "execution_count": null,
      "outputs": [
        {
          "output_type": "execute_result",
          "data": {
            "text/html": [
              "<div>\n",
              "<style scoped>\n",
              "    .dataframe tbody tr th:only-of-type {\n",
              "        vertical-align: middle;\n",
              "    }\n",
              "\n",
              "    .dataframe tbody tr th {\n",
              "        vertical-align: top;\n",
              "    }\n",
              "\n",
              "    .dataframe thead th {\n",
              "        text-align: right;\n",
              "    }\n",
              "</style>\n",
              "<table border=\"1\" class=\"dataframe\">\n",
              "  <thead>\n",
              "    <tr style=\"text-align: right;\">\n",
              "      <th></th>\n",
              "      <th>duration</th>\n",
              "      <th>protocol_type</th>\n",
              "      <th>service</th>\n",
              "      <th>flag</th>\n",
              "      <th>src_bytes</th>\n",
              "      <th>dst_bytes</th>\n",
              "      <th>land</th>\n",
              "      <th>wrong_fragment</th>\n",
              "      <th>urgent</th>\n",
              "      <th>hot</th>\n",
              "      <th>num_failed_logins</th>\n",
              "      <th>logged_in</th>\n",
              "      <th>num_compromised</th>\n",
              "      <th>root_shell</th>\n",
              "      <th>su_attempted</th>\n",
              "      <th>num_root</th>\n",
              "      <th>num_file_creations</th>\n",
              "      <th>num_shells</th>\n",
              "      <th>num_access_files</th>\n",
              "      <th>num_outbound_cmds</th>\n",
              "      <th>is_host_login</th>\n",
              "      <th>is_guest_login</th>\n",
              "      <th>count</th>\n",
              "      <th>srv_count</th>\n",
              "      <th>serror_rate</th>\n",
              "      <th>srv_serror_rate</th>\n",
              "      <th>rerror_rate</th>\n",
              "      <th>srv_rerror_rate</th>\n",
              "      <th>same_srv_rate</th>\n",
              "      <th>diff_srv_rate</th>\n",
              "      <th>srv_diff_host_rate</th>\n",
              "      <th>dst_host_count</th>\n",
              "      <th>dst_host_srv_count</th>\n",
              "      <th>dst_host_same_srv_rate</th>\n",
              "      <th>dst_host_diff_srv_rate</th>\n",
              "      <th>dst_host_same_src_port_rate</th>\n",
              "      <th>dst_host_srv_diff_host_rate</th>\n",
              "      <th>dst_host_serror_rate</th>\n",
              "      <th>dst_host_srv_serror_rate</th>\n",
              "      <th>dst_host_rerror_rate</th>\n",
              "      <th>dst_host_srv_rerror_rate</th>\n",
              "      <th>class</th>\n",
              "    </tr>\n",
              "  </thead>\n",
              "  <tbody>\n",
              "    <tr>\n",
              "      <th>0</th>\n",
              "      <td>0</td>\n",
              "      <td>tcp</td>\n",
              "      <td>ftp_data</td>\n",
              "      <td>SF</td>\n",
              "      <td>491</td>\n",
              "      <td>0</td>\n",
              "      <td>0</td>\n",
              "      <td>0</td>\n",
              "      <td>0</td>\n",
              "      <td>0</td>\n",
              "      <td>0</td>\n",
              "      <td>0</td>\n",
              "      <td>0</td>\n",
              "      <td>0</td>\n",
              "      <td>0</td>\n",
              "      <td>0</td>\n",
              "      <td>0</td>\n",
              "      <td>0</td>\n",
              "      <td>0</td>\n",
              "      <td>0</td>\n",
              "      <td>0</td>\n",
              "      <td>0</td>\n",
              "      <td>2</td>\n",
              "      <td>2</td>\n",
              "      <td>0.0</td>\n",
              "      <td>0.0</td>\n",
              "      <td>0.0</td>\n",
              "      <td>0.0</td>\n",
              "      <td>1.00</td>\n",
              "      <td>0.00</td>\n",
              "      <td>0.00</td>\n",
              "      <td>150</td>\n",
              "      <td>25</td>\n",
              "      <td>0.17</td>\n",
              "      <td>0.03</td>\n",
              "      <td>0.17</td>\n",
              "      <td>0.00</td>\n",
              "      <td>0.00</td>\n",
              "      <td>0.00</td>\n",
              "      <td>0.05</td>\n",
              "      <td>0.00</td>\n",
              "      <td>normal</td>\n",
              "    </tr>\n",
              "    <tr>\n",
              "      <th>1</th>\n",
              "      <td>0</td>\n",
              "      <td>udp</td>\n",
              "      <td>other</td>\n",
              "      <td>SF</td>\n",
              "      <td>146</td>\n",
              "      <td>0</td>\n",
              "      <td>0</td>\n",
              "      <td>0</td>\n",
              "      <td>0</td>\n",
              "      <td>0</td>\n",
              "      <td>0</td>\n",
              "      <td>0</td>\n",
              "      <td>0</td>\n",
              "      <td>0</td>\n",
              "      <td>0</td>\n",
              "      <td>0</td>\n",
              "      <td>0</td>\n",
              "      <td>0</td>\n",
              "      <td>0</td>\n",
              "      <td>0</td>\n",
              "      <td>0</td>\n",
              "      <td>0</td>\n",
              "      <td>13</td>\n",
              "      <td>1</td>\n",
              "      <td>0.0</td>\n",
              "      <td>0.0</td>\n",
              "      <td>0.0</td>\n",
              "      <td>0.0</td>\n",
              "      <td>0.08</td>\n",
              "      <td>0.15</td>\n",
              "      <td>0.00</td>\n",
              "      <td>255</td>\n",
              "      <td>1</td>\n",
              "      <td>0.00</td>\n",
              "      <td>0.60</td>\n",
              "      <td>0.88</td>\n",
              "      <td>0.00</td>\n",
              "      <td>0.00</td>\n",
              "      <td>0.00</td>\n",
              "      <td>0.00</td>\n",
              "      <td>0.00</td>\n",
              "      <td>normal</td>\n",
              "    </tr>\n",
              "    <tr>\n",
              "      <th>2</th>\n",
              "      <td>0</td>\n",
              "      <td>tcp</td>\n",
              "      <td>private</td>\n",
              "      <td>S0</td>\n",
              "      <td>0</td>\n",
              "      <td>0</td>\n",
              "      <td>0</td>\n",
              "      <td>0</td>\n",
              "      <td>0</td>\n",
              "      <td>0</td>\n",
              "      <td>0</td>\n",
              "      <td>0</td>\n",
              "      <td>0</td>\n",
              "      <td>0</td>\n",
              "      <td>0</td>\n",
              "      <td>0</td>\n",
              "      <td>0</td>\n",
              "      <td>0</td>\n",
              "      <td>0</td>\n",
              "      <td>0</td>\n",
              "      <td>0</td>\n",
              "      <td>0</td>\n",
              "      <td>123</td>\n",
              "      <td>6</td>\n",
              "      <td>1.0</td>\n",
              "      <td>1.0</td>\n",
              "      <td>0.0</td>\n",
              "      <td>0.0</td>\n",
              "      <td>0.05</td>\n",
              "      <td>0.07</td>\n",
              "      <td>0.00</td>\n",
              "      <td>255</td>\n",
              "      <td>26</td>\n",
              "      <td>0.10</td>\n",
              "      <td>0.05</td>\n",
              "      <td>0.00</td>\n",
              "      <td>0.00</td>\n",
              "      <td>1.00</td>\n",
              "      <td>1.00</td>\n",
              "      <td>0.00</td>\n",
              "      <td>0.00</td>\n",
              "      <td>anomaly</td>\n",
              "    </tr>\n",
              "    <tr>\n",
              "      <th>3</th>\n",
              "      <td>0</td>\n",
              "      <td>tcp</td>\n",
              "      <td>http</td>\n",
              "      <td>SF</td>\n",
              "      <td>232</td>\n",
              "      <td>8153</td>\n",
              "      <td>0</td>\n",
              "      <td>0</td>\n",
              "      <td>0</td>\n",
              "      <td>0</td>\n",
              "      <td>0</td>\n",
              "      <td>1</td>\n",
              "      <td>0</td>\n",
              "      <td>0</td>\n",
              "      <td>0</td>\n",
              "      <td>0</td>\n",
              "      <td>0</td>\n",
              "      <td>0</td>\n",
              "      <td>0</td>\n",
              "      <td>0</td>\n",
              "      <td>0</td>\n",
              "      <td>0</td>\n",
              "      <td>5</td>\n",
              "      <td>5</td>\n",
              "      <td>0.2</td>\n",
              "      <td>0.2</td>\n",
              "      <td>0.0</td>\n",
              "      <td>0.0</td>\n",
              "      <td>1.00</td>\n",
              "      <td>0.00</td>\n",
              "      <td>0.00</td>\n",
              "      <td>30</td>\n",
              "      <td>255</td>\n",
              "      <td>1.00</td>\n",
              "      <td>0.00</td>\n",
              "      <td>0.03</td>\n",
              "      <td>0.04</td>\n",
              "      <td>0.03</td>\n",
              "      <td>0.01</td>\n",
              "      <td>0.00</td>\n",
              "      <td>0.01</td>\n",
              "      <td>normal</td>\n",
              "    </tr>\n",
              "    <tr>\n",
              "      <th>4</th>\n",
              "      <td>0</td>\n",
              "      <td>tcp</td>\n",
              "      <td>http</td>\n",
              "      <td>SF</td>\n",
              "      <td>199</td>\n",
              "      <td>420</td>\n",
              "      <td>0</td>\n",
              "      <td>0</td>\n",
              "      <td>0</td>\n",
              "      <td>0</td>\n",
              "      <td>0</td>\n",
              "      <td>1</td>\n",
              "      <td>0</td>\n",
              "      <td>0</td>\n",
              "      <td>0</td>\n",
              "      <td>0</td>\n",
              "      <td>0</td>\n",
              "      <td>0</td>\n",
              "      <td>0</td>\n",
              "      <td>0</td>\n",
              "      <td>0</td>\n",
              "      <td>0</td>\n",
              "      <td>30</td>\n",
              "      <td>32</td>\n",
              "      <td>0.0</td>\n",
              "      <td>0.0</td>\n",
              "      <td>0.0</td>\n",
              "      <td>0.0</td>\n",
              "      <td>1.00</td>\n",
              "      <td>0.00</td>\n",
              "      <td>0.09</td>\n",
              "      <td>255</td>\n",
              "      <td>255</td>\n",
              "      <td>1.00</td>\n",
              "      <td>0.00</td>\n",
              "      <td>0.00</td>\n",
              "      <td>0.00</td>\n",
              "      <td>0.00</td>\n",
              "      <td>0.00</td>\n",
              "      <td>0.00</td>\n",
              "      <td>0.00</td>\n",
              "      <td>normal</td>\n",
              "    </tr>\n",
              "  </tbody>\n",
              "</table>\n",
              "</div>"
            ],
            "text/plain": [
              "   duration protocol_type   service flag  src_bytes  dst_bytes  land  \\\n",
              "0         0           tcp  ftp_data   SF        491          0     0   \n",
              "1         0           udp     other   SF        146          0     0   \n",
              "2         0           tcp   private   S0          0          0     0   \n",
              "3         0           tcp      http   SF        232       8153     0   \n",
              "4         0           tcp      http   SF        199        420     0   \n",
              "\n",
              "   wrong_fragment  urgent  hot  num_failed_logins  logged_in  num_compromised  \\\n",
              "0               0       0    0                  0          0                0   \n",
              "1               0       0    0                  0          0                0   \n",
              "2               0       0    0                  0          0                0   \n",
              "3               0       0    0                  0          1                0   \n",
              "4               0       0    0                  0          1                0   \n",
              "\n",
              "   root_shell  su_attempted  num_root  num_file_creations  num_shells  \\\n",
              "0           0             0         0                   0           0   \n",
              "1           0             0         0                   0           0   \n",
              "2           0             0         0                   0           0   \n",
              "3           0             0         0                   0           0   \n",
              "4           0             0         0                   0           0   \n",
              "\n",
              "   num_access_files  num_outbound_cmds  is_host_login  is_guest_login  count  \\\n",
              "0                 0                  0              0               0      2   \n",
              "1                 0                  0              0               0     13   \n",
              "2                 0                  0              0               0    123   \n",
              "3                 0                  0              0               0      5   \n",
              "4                 0                  0              0               0     30   \n",
              "\n",
              "   srv_count  serror_rate  srv_serror_rate  rerror_rate  srv_rerror_rate  \\\n",
              "0          2          0.0              0.0          0.0              0.0   \n",
              "1          1          0.0              0.0          0.0              0.0   \n",
              "2          6          1.0              1.0          0.0              0.0   \n",
              "3          5          0.2              0.2          0.0              0.0   \n",
              "4         32          0.0              0.0          0.0              0.0   \n",
              "\n",
              "   same_srv_rate  diff_srv_rate  srv_diff_host_rate  dst_host_count  \\\n",
              "0           1.00           0.00                0.00             150   \n",
              "1           0.08           0.15                0.00             255   \n",
              "2           0.05           0.07                0.00             255   \n",
              "3           1.00           0.00                0.00              30   \n",
              "4           1.00           0.00                0.09             255   \n",
              "\n",
              "   dst_host_srv_count  dst_host_same_srv_rate  dst_host_diff_srv_rate  \\\n",
              "0                  25                    0.17                    0.03   \n",
              "1                   1                    0.00                    0.60   \n",
              "2                  26                    0.10                    0.05   \n",
              "3                 255                    1.00                    0.00   \n",
              "4                 255                    1.00                    0.00   \n",
              "\n",
              "   dst_host_same_src_port_rate  dst_host_srv_diff_host_rate  \\\n",
              "0                         0.17                         0.00   \n",
              "1                         0.88                         0.00   \n",
              "2                         0.00                         0.00   \n",
              "3                         0.03                         0.04   \n",
              "4                         0.00                         0.00   \n",
              "\n",
              "   dst_host_serror_rate  dst_host_srv_serror_rate  dst_host_rerror_rate  \\\n",
              "0                  0.00                      0.00                  0.05   \n",
              "1                  0.00                      0.00                  0.00   \n",
              "2                  1.00                      1.00                  0.00   \n",
              "3                  0.03                      0.01                  0.00   \n",
              "4                  0.00                      0.00                  0.00   \n",
              "\n",
              "   dst_host_srv_rerror_rate    class  \n",
              "0                      0.00   normal  \n",
              "1                      0.00   normal  \n",
              "2                      0.00  anomaly  \n",
              "3                      0.01   normal  \n",
              "4                      0.00   normal  "
            ]
          },
          "metadata": {},
          "execution_count": 12
        }
      ]
    },
    {
      "cell_type": "code",
      "metadata": {
        "id": "svpELjjvJd-v"
      },
      "source": [
        "test = train.sample(1)\n",
        "test.to_csv('test.csv')"
      ],
      "execution_count": null,
      "outputs": []
    },
    {
      "cell_type": "code",
      "metadata": {
        "colab": {
          "base_uri": "https://localhost:8080/"
        },
        "id": "NI8FJYiaKf62",
        "outputId": "016f618f-25ac-4ade-81cb-470037298dd4"
      },
      "source": [
        "print(train['num_outbound_cmds'].value_counts())\n",
        "print(test['num_outbound_cmds'].value_counts())"
      ],
      "execution_count": null,
      "outputs": [
        {
          "output_type": "stream",
          "name": "stdout",
          "text": [
            "0    25192\n",
            "Name: num_outbound_cmds, dtype: int64\n",
            "0    1\n",
            "Name: num_outbound_cmds, dtype: int64\n"
          ]
        }
      ]
    },
    {
      "cell_type": "code",
      "metadata": {
        "colab": {
          "base_uri": "https://localhost:8080/",
          "height": 281
        },
        "id": "tbJhatjEcTW4",
        "outputId": "4e15ec3b-44f5-4944-b8a2-0b32043058d5"
      },
      "source": [
        "sns.countplot(train['class'])\n",
        "plt.xlabel('Number of anomaly and normal packets in the dataset');"
      ],
      "execution_count": null,
      "outputs": [
        {
          "output_type": "display_data",
          "data": {
            "image/png": "[encoded data removed]",
            "text/plain": [
              "<Figure size 432x288 with 1 Axes>"
            ]
          },
          "metadata": {
            "needs_background": "light"
          }
        }
      ]
    },
    {
      "cell_type": "markdown",
      "metadata": {
        "id": "PHAOrXCTeD-U"
      },
      "source": [
        "## Cleaning the dataset"
      ]
    },
    {
      "cell_type": "code",
      "metadata": {
        "colab": {
          "base_uri": "https://localhost:8080/"
        },
        "id": "0aXzww6xeDbG",
        "outputId": "dfb44098-8d81-4289-e49b-6d1e2bdb25db"
      },
      "source": [
        "print('Null values in train dataset are',len(train[train.isnull().any(1)]))\n",
        "print('Null values in test dataset are',len(test[test.isnull().any(1)]))"
      ],
      "execution_count": null,
      "outputs": [
        {
          "output_type": "stream",
          "name": "stdout",
          "text": [
            "Null values in train dataset are 0\n",
            "Null values in test dataset are 0\n"
          ]
        }
      ]
    },
    {
      "cell_type": "markdown",
      "metadata": {
        "id": "jFRv1HZTmFnk"
      },
      "source": [
        "## Scaling numbering features of the dataset"
      ]
    },
    {
      "cell_type": "code",
      "metadata": {
        "id": "7qH8CJJOmM1y"
      },
      "source": [
        "from sklearn.preprocessing import StandardScaler\n",
        "from sklearn.preprocessing import LabelEncoder\n",
        "encoder = LabelEncoder()\n",
        "scaler = StandardScaler()"
      ],
      "execution_count": null,
      "outputs": []
    },
    {
      "cell_type": "code",
      "metadata": {
        "id": "DEJO8zKfmVDq"
      },
      "source": [
        "cols_names = train.select_dtypes(include=['float64', 'int64']).columns\n",
        "scale_train = scaler.fit_transform(train.select_dtypes(include=['float64', 'int64']))\n",
        "scale_test = scaler.fit_transform(test.select_dtypes(include=['float64', 'int64']))"
      ],
      "execution_count": null,
      "outputs": []
    },
    {
      "cell_type": "markdown",
      "metadata": {
        "id": "V6nx_6eBnzxc"
      },
      "source": [
        "**creating training and testing dataframes with scaled values**"
      ]
    },
    {
      "cell_type": "code",
      "metadata": {
        "id": "DlG0WBoOmgcy"
      },
      "source": [
        "# turn the result back to a dataframe\n",
        "sc_traindf = pd.DataFrame(scale_train, columns = cols_names)\n",
        "sc_testdf = pd.DataFrame(scale_test, columns = cols_names)"
      ],
      "execution_count": null,
      "outputs": []
    },
    {
      "cell_type": "markdown",
      "metadata": {
        "id": "alPntvkApMwx"
      },
      "source": [
        "## Encoding categorical attributes in the datasets"
      ]
    },
    {
      "cell_type": "code",
      "metadata": {
        "id": "BDA0skscoZQN"
      },
      "source": [
        "cat_train = train.select_dtypes(include=['object']).copy()\n",
        "cat_test =  test.select_dtypes(include=['object']).copy()"
      ],
      "execution_count": null,
      "outputs": []
    },
    {
      "cell_type": "code",
      "metadata": {
        "id": "5koM5hXxo00a",
        "colab": {
          "base_uri": "https://localhost:8080/"
        },
        "outputId": "421cf188-c387-4995-dc34-9763358ee027"
      },
      "source": [
        "train_cat = cat_train.apply(encoder.fit_transform)\n",
        "test_cat = cat_test.apply(encoder.fit_transform)\n",
        "encoder.classes_"
      ],
      "execution_count": null,
      "outputs": [
        {
          "output_type": "execute_result",
          "data": {
            "text/plain": [
              "array(['anomaly'], dtype=object)"
            ]
          },
          "metadata": {},
          "execution_count": 21
        }
      ]
    },
    {
      "cell_type": "code",
      "metadata": {
        "id": "rXPs5EpypC8b"
      },
      "source": [
        "# separate target column from encoded data \n",
        "enctrain = train_cat.drop(['class'], axis=1)\n",
        "cat_Ytrain = train_cat[['class']].copy()"
      ],
      "execution_count": null,
      "outputs": []
    },
    {
      "cell_type": "code",
      "metadata": {
        "colab": {
          "base_uri": "https://localhost:8080/"
        },
        "id": "n12Y4USYKq9t",
        "outputId": "d347eec3-6164-4657-904b-4bceadc88daa"
      },
      "source": [
        "train_x = pd.concat([sc_traindf,enctrain],axis=1)\n",
        "train_y = train['class']\n",
        "train_x.shape"
      ],
      "execution_count": null,
      "outputs": [
        {
          "output_type": "execute_result",
          "data": {
            "text/plain": [
              "(25192, 41)"
            ]
          },
          "metadata": {},
          "execution_count": 23
        }
      ]
    },
    {
      "cell_type": "code",
      "metadata": {
        "colab": {
          "base_uri": "https://localhost:8080/",
          "height": 226
        },
        "id": "nomgwdkc_nNv",
        "outputId": "1473e6a8-00ae-4d94-f3b1-93064680a631"
      },
      "source": [
        "train_x.head()"
      ],
      "execution_count": null,
      "outputs": [
        {
          "output_type": "execute_result",
          "data": {
            "text/html": [
              "<div>\n",
              "<style scoped>\n",
              "    .dataframe tbody tr th:only-of-type {\n",
              "        vertical-align: middle;\n",
              "    }\n",
              "\n",
              "    .dataframe tbody tr th {\n",
              "        vertical-align: top;\n",
              "    }\n",
              "\n",
              "    .dataframe thead th {\n",
              "        text-align: right;\n",
              "    }\n",
              "</style>\n",
              "<table border=\"1\" class=\"dataframe\">\n",
              "  <thead>\n",
              "    <tr style=\"text-align: right;\">\n",
              "      <th></th>\n",
              "      <th>duration</th>\n",
              "      <th>src_bytes</th>\n",
              "      <th>dst_bytes</th>\n",
              "      <th>land</th>\n",
              "      <th>wrong_fragment</th>\n",
              "      <th>urgent</th>\n",
              "      <th>hot</th>\n",
              "      <th>num_failed_logins</th>\n",
              "      <th>logged_in</th>\n",
              "      <th>num_compromised</th>\n",
              "      <th>root_shell</th>\n",
              "      <th>su_attempted</th>\n",
              "      <th>num_root</th>\n",
              "      <th>num_file_creations</th>\n",
              "      <th>num_shells</th>\n",
              "      <th>num_access_files</th>\n",
              "      <th>num_outbound_cmds</th>\n",
              "      <th>is_host_login</th>\n",
              "      <th>is_guest_login</th>\n",
              "      <th>count</th>\n",
              "      <th>srv_count</th>\n",
              "      <th>serror_rate</th>\n",
              "      <th>srv_serror_rate</th>\n",
              "      <th>rerror_rate</th>\n",
              "      <th>srv_rerror_rate</th>\n",
              "      <th>same_srv_rate</th>\n",
              "      <th>diff_srv_rate</th>\n",
              "      <th>srv_diff_host_rate</th>\n",
              "      <th>dst_host_count</th>\n",
              "      <th>dst_host_srv_count</th>\n",
              "      <th>dst_host_same_srv_rate</th>\n",
              "      <th>dst_host_diff_srv_rate</th>\n",
              "      <th>dst_host_same_src_port_rate</th>\n",
              "      <th>dst_host_srv_diff_host_rate</th>\n",
              "      <th>dst_host_serror_rate</th>\n",
              "      <th>dst_host_srv_serror_rate</th>\n",
              "      <th>dst_host_rerror_rate</th>\n",
              "      <th>dst_host_srv_rerror_rate</th>\n",
              "      <th>protocol_type</th>\n",
              "      <th>service</th>\n",
              "      <th>flag</th>\n",
              "    </tr>\n",
              "  </thead>\n",
              "  <tbody>\n",
              "    <tr>\n",
              "      <th>0</th>\n",
              "      <td>-0.113551</td>\n",
              "      <td>-0.009889</td>\n",
              "      <td>-0.039310</td>\n",
              "      <td>-0.00891</td>\n",
              "      <td>-0.091223</td>\n",
              "      <td>-0.006301</td>\n",
              "      <td>-0.091933</td>\n",
              "      <td>-0.02622</td>\n",
              "      <td>-0.807626</td>\n",
              "      <td>-0.021873</td>\n",
              "      <td>-0.039377</td>\n",
              "      <td>-0.027665</td>\n",
              "      <td>-0.021724</td>\n",
              "      <td>-0.027808</td>\n",
              "      <td>-0.018905</td>\n",
              "      <td>-0.043917</td>\n",
              "      <td>0.0</td>\n",
              "      <td>0.0</td>\n",
              "      <td>-0.09599</td>\n",
              "      <td>-0.720244</td>\n",
              "      <td>-0.354628</td>\n",
              "      <td>-0.640142</td>\n",
              "      <td>-0.633978</td>\n",
              "      <td>-0.372186</td>\n",
              "      <td>-0.373098</td>\n",
              "      <td>0.772109</td>\n",
              "      <td>-0.349282</td>\n",
              "      <td>-0.373886</td>\n",
              "      <td>-0.328634</td>\n",
              "      <td>-0.813985</td>\n",
              "      <td>-0.779157</td>\n",
              "      <td>-0.280673</td>\n",
              "      <td>0.073120</td>\n",
              "      <td>-0.287993</td>\n",
              "      <td>-0.641804</td>\n",
              "      <td>-0.627365</td>\n",
              "      <td>-0.221668</td>\n",
              "      <td>-0.374281</td>\n",
              "      <td>1</td>\n",
              "      <td>19</td>\n",
              "      <td>9</td>\n",
              "    </tr>\n",
              "    <tr>\n",
              "      <th>1</th>\n",
              "      <td>-0.113551</td>\n",
              "      <td>-0.010032</td>\n",
              "      <td>-0.039310</td>\n",
              "      <td>-0.00891</td>\n",
              "      <td>-0.091223</td>\n",
              "      <td>-0.006301</td>\n",
              "      <td>-0.091933</td>\n",
              "      <td>-0.02622</td>\n",
              "      <td>-0.807626</td>\n",
              "      <td>-0.021873</td>\n",
              "      <td>-0.039377</td>\n",
              "      <td>-0.027665</td>\n",
              "      <td>-0.021724</td>\n",
              "      <td>-0.027808</td>\n",
              "      <td>-0.018905</td>\n",
              "      <td>-0.043917</td>\n",
              "      <td>0.0</td>\n",
              "      <td>0.0</td>\n",
              "      <td>-0.09599</td>\n",
              "      <td>-0.624317</td>\n",
              "      <td>-0.368427</td>\n",
              "      <td>-0.640142</td>\n",
              "      <td>-0.633978</td>\n",
              "      <td>-0.372186</td>\n",
              "      <td>-0.373098</td>\n",
              "      <td>-1.320567</td>\n",
              "      <td>0.490836</td>\n",
              "      <td>-0.373886</td>\n",
              "      <td>0.732059</td>\n",
              "      <td>-1.030895</td>\n",
              "      <td>-1.157831</td>\n",
              "      <td>2.764403</td>\n",
              "      <td>2.375620</td>\n",
              "      <td>-0.287993</td>\n",
              "      <td>-0.641804</td>\n",
              "      <td>-0.627365</td>\n",
              "      <td>-0.385140</td>\n",
              "      <td>-0.374281</td>\n",
              "      <td>2</td>\n",
              "      <td>41</td>\n",
              "      <td>9</td>\n",
              "    </tr>\n",
              "    <tr>\n",
              "      <th>2</th>\n",
              "      <td>-0.113551</td>\n",
              "      <td>-0.010093</td>\n",
              "      <td>-0.039310</td>\n",
              "      <td>-0.00891</td>\n",
              "      <td>-0.091223</td>\n",
              "      <td>-0.006301</td>\n",
              "      <td>-0.091933</td>\n",
              "      <td>-0.02622</td>\n",
              "      <td>-0.807626</td>\n",
              "      <td>-0.021873</td>\n",
              "      <td>-0.039377</td>\n",
              "      <td>-0.027665</td>\n",
              "      <td>-0.021724</td>\n",
              "      <td>-0.027808</td>\n",
              "      <td>-0.018905</td>\n",
              "      <td>-0.043917</td>\n",
              "      <td>0.0</td>\n",
              "      <td>0.0</td>\n",
              "      <td>-0.09599</td>\n",
              "      <td>0.334947</td>\n",
              "      <td>-0.299430</td>\n",
              "      <td>1.595477</td>\n",
              "      <td>1.600209</td>\n",
              "      <td>-0.372186</td>\n",
              "      <td>-0.373098</td>\n",
              "      <td>-1.388806</td>\n",
              "      <td>0.042773</td>\n",
              "      <td>-0.373886</td>\n",
              "      <td>0.732059</td>\n",
              "      <td>-0.804947</td>\n",
              "      <td>-0.935081</td>\n",
              "      <td>-0.173828</td>\n",
              "      <td>-0.478183</td>\n",
              "      <td>-0.287993</td>\n",
              "      <td>1.603834</td>\n",
              "      <td>1.614454</td>\n",
              "      <td>-0.385140</td>\n",
              "      <td>-0.374281</td>\n",
              "      <td>1</td>\n",
              "      <td>46</td>\n",
              "      <td>5</td>\n",
              "    </tr>\n",
              "    <tr>\n",
              "      <th>3</th>\n",
              "      <td>-0.113551</td>\n",
              "      <td>-0.009996</td>\n",
              "      <td>0.052473</td>\n",
              "      <td>-0.00891</td>\n",
              "      <td>-0.091223</td>\n",
              "      <td>-0.006301</td>\n",
              "      <td>-0.091933</td>\n",
              "      <td>-0.02622</td>\n",
              "      <td>1.238197</td>\n",
              "      <td>-0.021873</td>\n",
              "      <td>-0.039377</td>\n",
              "      <td>-0.027665</td>\n",
              "      <td>-0.021724</td>\n",
              "      <td>-0.027808</td>\n",
              "      <td>-0.018905</td>\n",
              "      <td>-0.043917</td>\n",
              "      <td>0.0</td>\n",
              "      <td>0.0</td>\n",
              "      <td>-0.09599</td>\n",
              "      <td>-0.694082</td>\n",
              "      <td>-0.313230</td>\n",
              "      <td>-0.193018</td>\n",
              "      <td>-0.187141</td>\n",
              "      <td>-0.372186</td>\n",
              "      <td>-0.373098</td>\n",
              "      <td>0.772109</td>\n",
              "      <td>-0.349282</td>\n",
              "      <td>-0.373886</td>\n",
              "      <td>-1.540854</td>\n",
              "      <td>1.264742</td>\n",
              "      <td>1.069663</td>\n",
              "      <td>-0.440940</td>\n",
              "      <td>-0.380894</td>\n",
              "      <td>0.073759</td>\n",
              "      <td>-0.574435</td>\n",
              "      <td>-0.604947</td>\n",
              "      <td>-0.385140</td>\n",
              "      <td>-0.342768</td>\n",
              "      <td>1</td>\n",
              "      <td>22</td>\n",
              "      <td>9</td>\n",
              "    </tr>\n",
              "    <tr>\n",
              "      <th>4</th>\n",
              "      <td>-0.113551</td>\n",
              "      <td>-0.010010</td>\n",
              "      <td>-0.034582</td>\n",
              "      <td>-0.00891</td>\n",
              "      <td>-0.091223</td>\n",
              "      <td>-0.006301</td>\n",
              "      <td>-0.091933</td>\n",
              "      <td>-0.02622</td>\n",
              "      <td>1.238197</td>\n",
              "      <td>-0.021873</td>\n",
              "      <td>-0.039377</td>\n",
              "      <td>-0.027665</td>\n",
              "      <td>-0.021724</td>\n",
              "      <td>-0.027808</td>\n",
              "      <td>-0.018905</td>\n",
              "      <td>-0.043917</td>\n",
              "      <td>0.0</td>\n",
              "      <td>0.0</td>\n",
              "      <td>-0.09599</td>\n",
              "      <td>-0.476067</td>\n",
              "      <td>0.059355</td>\n",
              "      <td>-0.640142</td>\n",
              "      <td>-0.633978</td>\n",
              "      <td>-0.372186</td>\n",
              "      <td>-0.373098</td>\n",
              "      <td>0.772109</td>\n",
              "      <td>-0.349282</td>\n",
              "      <td>-0.023115</td>\n",
              "      <td>0.732059</td>\n",
              "      <td>1.264742</td>\n",
              "      <td>1.069663</td>\n",
              "      <td>-0.440940</td>\n",
              "      <td>-0.478183</td>\n",
              "      <td>-0.287993</td>\n",
              "      <td>-0.641804</td>\n",
              "      <td>-0.627365</td>\n",
              "      <td>-0.385140</td>\n",
              "      <td>-0.374281</td>\n",
              "      <td>1</td>\n",
              "      <td>22</td>\n",
              "      <td>9</td>\n",
              "    </tr>\n",
              "  </tbody>\n",
              "</table>\n",
              "</div>"
            ],
            "text/plain": [
              "   duration  src_bytes  dst_bytes     land  wrong_fragment    urgent  \\\n",
              "0 -0.113551  -0.009889  -0.039310 -0.00891       -0.091223 -0.006301   \n",
              "1 -0.113551  -0.010032  -0.039310 -0.00891       -0.091223 -0.006301   \n",
              "2 -0.113551  -0.010093  -0.039310 -0.00891       -0.091223 -0.006301   \n",
              "3 -0.113551  -0.009996   0.052473 -0.00891       -0.091223 -0.006301   \n",
              "4 -0.113551  -0.010010  -0.034582 -0.00891       -0.091223 -0.006301   \n",
              "\n",
              "        hot  num_failed_logins  logged_in  num_compromised  root_shell  \\\n",
              "0 -0.091933           -0.02622  -0.807626        -0.021873   -0.039377   \n",
              "1 -0.091933           -0.02622  -0.807626        -0.021873   -0.039377   \n",
              "2 -0.091933           -0.02622  -0.807626        -0.021873   -0.039377   \n",
              "3 -0.091933           -0.02622   1.238197        -0.021873   -0.039377   \n",
              "4 -0.091933           -0.02622   1.238197        -0.021873   -0.039377   \n",
              "\n",
              "   su_attempted  num_root  num_file_creations  num_shells  num_access_files  \\\n",
              "0     -0.027665 -0.021724           -0.027808   -0.018905         -0.043917   \n",
              "1     -0.027665 -0.021724           -0.027808   -0.018905         -0.043917   \n",
              "2     -0.027665 -0.021724           -0.027808   -0.018905         -0.043917   \n",
              "3     -0.027665 -0.021724           -0.027808   -0.018905         -0.043917   \n",
              "4     -0.027665 -0.021724           -0.027808   -0.018905         -0.043917   \n",
              "\n",
              "   num_outbound_cmds  is_host_login  is_guest_login     count  srv_count  \\\n",
              "0                0.0            0.0        -0.09599 -0.720244  -0.354628   \n",
              "1                0.0            0.0        -0.09599 -0.624317  -0.368427   \n",
              "2                0.0            0.0        -0.09599  0.334947  -0.299430   \n",
              "3                0.0            0.0        -0.09599 -0.694082  -0.313230   \n",
              "4                0.0            0.0        -0.09599 -0.476067   0.059355   \n",
              "\n",
              "   serror_rate  srv_serror_rate  rerror_rate  srv_rerror_rate  same_srv_rate  \\\n",
              "0    -0.640142        -0.633978    -0.372186        -0.373098       0.772109   \n",
              "1    -0.640142        -0.633978    -0.372186        -0.373098      -1.320567   \n",
              "2     1.595477         1.600209    -0.372186        -0.373098      -1.388806   \n",
              "3    -0.193018        -0.187141    -0.372186        -0.373098       0.772109   \n",
              "4    -0.640142        -0.633978    -0.372186        -0.373098       0.772109   \n",
              "\n",
              "   diff_srv_rate  srv_diff_host_rate  dst_host_count  dst_host_srv_count  \\\n",
              "0      -0.349282           -0.373886       -0.328634           -0.813985   \n",
              "1       0.490836           -0.373886        0.732059           -1.030895   \n",
              "2       0.042773           -0.373886        0.732059           -0.804947   \n",
              "3      -0.349282           -0.373886       -1.540854            1.264742   \n",
              "4      -0.349282           -0.023115        0.732059            1.264742   \n",
              "\n",
              "   dst_host_same_srv_rate  dst_host_diff_srv_rate  \\\n",
              "0               -0.779157               -0.280673   \n",
              "1               -1.157831                2.764403   \n",
              "2               -0.935081               -0.173828   \n",
              "3                1.069663               -0.440940   \n",
              "4                1.069663               -0.440940   \n",
              "\n",
              "   dst_host_same_src_port_rate  dst_host_srv_diff_host_rate  \\\n",
              "0                     0.073120                    -0.287993   \n",
              "1                     2.375620                    -0.287993   \n",
              "2                    -0.478183                    -0.287993   \n",
              "3                    -0.380894                     0.073759   \n",
              "4                    -0.478183                    -0.287993   \n",
              "\n",
              "   dst_host_serror_rate  dst_host_srv_serror_rate  dst_host_rerror_rate  \\\n",
              "0             -0.641804                 -0.627365             -0.221668   \n",
              "1             -0.641804                 -0.627365             -0.385140   \n",
              "2              1.603834                  1.614454             -0.385140   \n",
              "3             -0.574435                 -0.604947             -0.385140   \n",
              "4             -0.641804                 -0.627365             -0.385140   \n",
              "\n",
              "   dst_host_srv_rerror_rate  protocol_type  service  flag  \n",
              "0                 -0.374281              1       19     9  \n",
              "1                 -0.374281              2       41     9  \n",
              "2                 -0.374281              1       46     5  \n",
              "3                 -0.342768              1       22     9  \n",
              "4                 -0.374281              1       22     9  "
            ]
          },
          "metadata": {},
          "execution_count": 24
        }
      ]
    },
    {
      "cell_type": "code",
      "metadata": {
        "id": "olkx79gbMDAk"
      },
      "source": [
        "pickle.dump(scaler, open('/content/theScaler.pkl','wb'))"
      ],
      "execution_count": null,
      "outputs": []
    },
    {
      "cell_type": "markdown",
      "metadata": {
        "id": "yxwWqXqcp1xD"
      },
      "source": [
        "## Feature Extraction"
      ]
    },
    {
      "cell_type": "code",
      "metadata": {
        "colab": {
          "base_uri": "https://localhost:8080/",
          "height": 414
        },
        "id": "Oa0sSxEnKs_6",
        "outputId": "86c49964-4d5b-4d93-91eb-264dd123e656"
      },
      "source": [
        "from sklearn.ensemble import RandomForestClassifier\n",
        "rfc = RandomForestClassifier();\n",
        "\n",
        "# fit random forest classifier on the training set\n",
        "rfc.fit(train_x, train_y);\n",
        "\n",
        "# extract important features\n",
        "score = np.round(rfc.feature_importances_,3)\n",
        "importances = pd.DataFrame({'feature':train_x.columns,'importance':score})\n",
        "importances = importances.sort_values('importance',ascending=False).set_index('feature')\n",
        "\n",
        "# plot importances\n",
        "plt.rcParams['figure.figsize'] = (11, 4)\n",
        "importances.plot.bar();"
      ],
      "execution_count": null,
      "outputs": [
        {
          "output_type": "display_data",
          "data": {
            "image/png": "[encoded data removed]",
            "text/plain": [
              "<Figure size 792x288 with 1 Axes>"
            ]
          },
          "metadata": {
            "needs_background": "light"
          }
        }
      ]
    },
    {
      "cell_type": "code",
      "metadata": {
        "colab": {
          "base_uri": "https://localhost:8080/"
        },
        "id": "1i2eai4nKwPn",
        "outputId": "bc3f0f2d-00b4-4b79-878c-4e81d3be0553"
      },
      "source": [
        "from sklearn.feature_selection import RFE\n",
        "import itertools\n",
        "rfc = RandomForestClassifier()\n",
        "\n",
        "# create the RFE model and select 10 attributes\n",
        "rfe = RFE(rfc, n_features_to_select=15)\n",
        "rfe = rfe.fit(train_x, train_y)\n",
        "\n",
        "# summarize the selection of the attributes\n",
        "feature_map = [(i, v) for i, v in itertools.zip_longest(rfe.get_support(), train_x.columns)]\n",
        "selected_features = [v for i, v in feature_map if i==True]\n",
        "\n",
        "selected_features"
      ],
      "execution_count": null,
      "outputs": [
        {
          "output_type": "execute_result",
          "data": {
            "text/plain": [
              "['src_bytes',\n",
              " 'dst_bytes',\n",
              " 'logged_in',\n",
              " 'count',\n",
              " 'srv_count',\n",
              " 'same_srv_rate',\n",
              " 'diff_srv_rate',\n",
              " 'dst_host_count',\n",
              " 'dst_host_srv_count',\n",
              " 'dst_host_same_srv_rate',\n",
              " 'dst_host_diff_srv_rate',\n",
              " 'dst_host_same_src_port_rate',\n",
              " 'protocol_type',\n",
              " 'service',\n",
              " 'flag']"
            ]
          },
          "metadata": {},
          "execution_count": 32
        }
      ]
    },
    {
      "cell_type": "markdown",
      "metadata": {
        "id": "By7PguVYZT0r"
      },
      "source": [
        "## Spliting the dataset"
      ]
    },
    {
      "cell_type": "code",
      "metadata": {
        "id": "CmB4_0UHK-nI"
      },
      "source": [
        "from sklearn.model_selection import train_test_split\n",
        "\n",
        "X_train,X_test,Y_train,Y_test = train_test_split(train_x,train_y,train_size=0.70, random_state=2)"
      ],
      "execution_count": null,
      "outputs": []
    },
    {
      "cell_type": "code",
      "metadata": {
        "id": "o5jjPWuwsvim"
      },
      "source": [
        "from sklearn.metrics import accuracy_score\n",
        "from sklearn.metrics import matthews_corrcoef\n",
        "from sklearn.metrics import f1_score\n",
        "from sklearn.metrics import precision_recall_fscore_support as score\n",
        "import matplotlib.pyplot as plt\n",
        "from sklearn.metrics import plot_confusion_matrix"
      ],
      "execution_count": null,
      "outputs": []
    },
    {
      "cell_type": "markdown",
      "metadata": {
        "id": "YZESD2DXrIbC"
      },
      "source": [
        "## Naive Baye Classifier"
      ]
    },
    {
      "cell_type": "code",
      "metadata": {
        "colab": {
          "base_uri": "https://localhost:8080/"
        },
        "id": "Lixrd9i-K9ni",
        "outputId": "b728c2e3-691f-4ac5-b1f0-59724456bf15"
      },
      "source": [
        "from sklearn.naive_bayes import BernoulliNB\n",
        "\n",
        "NB_model = BernoulliNB()\n",
        "NB_model.fit(X_train, Y_train)\n",
        "y_train_pred = NB_model.predict(X_train)\n",
        "y_test_pred = NB_model.predict(X_test)\n",
        "\n",
        "NB_train_accuracy = accuracy_score(Y_train, y_train_pred)\n",
        "NB_train_mcc = matthews_corrcoef(Y_train, y_train_pred)\n",
        "NB_train_f1 = f1_score(Y_train, y_train_pred, pos_label='anomaly', average='binary')\n",
        "precision_train, recall_train, fscore_train, support_train = score(Y_train, y_train_pred, pos_label='anomaly', average='binary')\n",
        "\n",
        "NB_test_accuracy = accuracy_score(Y_test, y_test_pred)\n",
        "NB_test_mcc = matthews_corrcoef(Y_test, y_test_pred)\n",
        "NB_test_f1 = f1_score(Y_test, y_test_pred, pos_label='anomaly', average='binary')\n",
        "precision, recall, fscore , support = score(Y_test, y_test_pred, pos_label='anomaly', average='binary')\n",
        "\n",
        "print('Training set')\n",
        "print('Precision: {}, recall: {}'.format(precision_train, recall_train))\n",
        "print('Accuracy: {},\\nMCC: {},\\nF1 Score: {}'.format(NB_train_accuracy, NB_train_mcc, NB_train_f1))\n",
        "print('----------------------------------')\n",
        "print('Test Set')\n",
        "print('Precision: {}, recall: {}'.format(precision, recall))\n",
        "print('Accuracy: {},\\nMCC: {},\\nF1 Score: {}'.format(NB_test_accuracy, NB_test_mcc, NB_test_f1))"
      ],
      "execution_count": null,
      "outputs": [
        {
          "output_type": "stream",
          "name": "stdout",
          "text": [
            "Training set\n",
            "Precision: 0.946969696969697, recall: 0.8489993935718617\n",
            "Accuracy: 0.9071679709651809,\n",
            "MCC: 0.8162793915193016,\n",
            "F1 Score: 0.8953124000767411\n",
            "----------------------------------\n",
            "Test Set\n",
            "Precision: 0.9406752918901862, recall: 0.8522012578616353\n",
            "Accuracy: 0.906721354855782,\n",
            "MCC: 0.8143440411787657,\n",
            "F1 Score: 0.8942552872356382\n"
          ]
        }
      ]
    },
    {
      "cell_type": "code",
      "metadata": {
        "colab": {
          "base_uri": "https://localhost:8080/",
          "height": 297
        },
        "id": "cxe7TYRXL7J5",
        "outputId": "7d9e456d-c48c-49be-f468-d0d51075698c"
      },
      "source": [
        "plot_confusion_matrix(NB_model, X_test, Y_test, values_format='d')"
      ],
      "execution_count": null,
      "outputs": [
        {
          "output_type": "execute_result",
          "data": {
            "text/plain": [
              "<sklearn.metrics._plot.confusion_matrix.ConfusionMatrixDisplay at 0x7fc0a67b4890>"
            ]
          },
          "metadata": {},
          "execution_count": 55
        },
        {
          "output_type": "display_data",
          "data": {
            "image/png": "[encoded data removed]",
            "text/plain": [
              "<Figure size 792x288 with 2 Axes>"
            ]
          },
          "metadata": {
            "needs_background": "light"
          }
        }
      ]
    },
    {
      "cell_type": "markdown",
      "metadata": {
        "id": "WPywzfaBa3CZ"
      },
      "source": [
        "## Random Forest"
      ]
    },
    {
      "cell_type": "code",
      "metadata": {
        "colab": {
          "base_uri": "https://localhost:8080/"
        },
        "id": "qZZbx8iHbBlY",
        "outputId": "1318b6b6-f352-4d0c-b7b4-803ef3dc71a2"
      },
      "source": [
        "from sklearn.ensemble import RandomForestClassifier\n",
        "\n",
        "rf = RandomForestClassifier()\n",
        "rf.fit(X_train, Y_train) # Train model\n",
        "\n",
        "y_train_pred = rf.predict(X_train)\n",
        "y_test_pred = rf.predict(X_test)\n",
        "\n",
        "rf_train_accuracy = accuracy_score(Y_train, y_train_pred)\n",
        "rf_train_mcc = matthews_corrcoef(Y_train, y_train_pred)\n",
        "rf_train_f1 = f1_score(Y_train, y_train_pred, pos_label='anomaly', average='binary')\n",
        "precision_train, recall_train, fscore_train, support_train = score(Y_train, y_train_pred, pos_label='anomaly', average='binary')\n",
        "\n",
        "rf_test_accuracy = accuracy_score(Y_test, y_test_pred)\n",
        "rf_test_mcc = matthews_corrcoef(Y_test, y_test_pred)\n",
        "rf_test_f1 = f1_score(Y_test, y_test_pred, pos_label='anomaly', average='binary')\n",
        "precision, recall, fscore , support = score(Y_test, y_test_pred, pos_label='anomaly', average='binary')\n",
        "\n",
        "print('Training set')\n",
        "print('Precision: {}, recall: {}'.format(precision_train, recall_train))\n",
        "print('Accuracy: {}\\nMCC: {},\\nF1 Score: {}'.format(rf_train_accuracy, rf_train_mcc, rf_train_f1))\n",
        "print('----------------------------------')\n",
        "print('Test Set')\n",
        "print('Precision: {}, recall: {}'.format(precision, recall))\n",
        "print('Accuracy: {}\\nMCC: {},\\nF1 Score: {}'.format(rf_test_accuracy, rf_test_mcc, rf_test_f1))"
      ],
      "execution_count": null,
      "outputs": [
        {
          "output_type": "stream",
          "name": "stdout",
          "text": [
            "Training set\n",
            "Precision: 1.0, recall: 1.0\n",
            "Accuracy: 1.0\n",
            "MCC: 1.0,\n",
            "F1 Score: 1.0\n",
            "----------------------------------\n",
            "Test Set\n",
            "Precision: 0.9968526466380544, recall: 0.9959977129788451\n",
            "Accuracy: 0.9966922466260916\n",
            "MCC: 0.9933476333583944,\n",
            "F1 Score: 0.9964249964249965\n"
          ]
        }
      ]
    },
    {
      "cell_type": "code",
      "metadata": {
        "colab": {
          "base_uri": "https://localhost:8080/",
          "height": 299
        },
        "id": "OftW8XB1baMt",
        "outputId": "28481130-77a1-4361-8c2d-1dfbb69adce5"
      },
      "source": [
        "plot_confusion_matrix(rf, X_test, Y_test, values_format='d')"
      ],
      "execution_count": null,
      "outputs": [
        {
          "output_type": "execute_result",
          "data": {
            "text/plain": [
              "<sklearn.metrics._plot.confusion_matrix.ConfusionMatrixDisplay at 0x7fc0a6a0afd0>"
            ]
          },
          "metadata": {},
          "execution_count": 57
        },
        {
          "output_type": "display_data",
          "data": {
            "image/png": "[encoded data removed]",
            "text/plain": [
              "<Figure size 792x288 with 2 Axes>"
            ]
          },
          "metadata": {
            "needs_background": "light"
          }
        }
      ]
    },
    {
      "cell_type": "markdown",
      "metadata": {
        "id": "IHiXiCYbur6z"
      },
      "source": [
        "## K Nearest Neighbors"
      ]
    },
    {
      "cell_type": "code",
      "metadata": {
        "colab": {
          "base_uri": "https://localhost:8080/"
        },
        "id": "kEWn-wQ1M_4P",
        "outputId": "d7b5433c-687e-4cf9-fdb9-c367f8ae77a4"
      },
      "source": [
        "from sklearn.neighbors import KNeighborsClassifier\n",
        "\n",
        "knn = KNeighborsClassifier()\n",
        "knn.fit(X_train, Y_train) # Train model\n",
        "y_train_pred = rf.predict(X_train)\n",
        "y_test_pred = rf.predict(X_test)\n",
        "\n",
        "knn_train_accuracy = accuracy_score(Y_train, y_train_pred)\n",
        "knn_train_mcc = matthews_corrcoef(Y_train, y_train_pred)\n",
        "knn_train_f1 = f1_score(Y_train, y_train_pred, pos_label='anomaly', average='binary')\n",
        "precision_train, recall_train, fscore_train, support_train = score(Y_train, y_train_pred, pos_label='anomaly', average='binary')\n",
        "\n",
        "knn_test_accuracy = accuracy_score(Y_test, y_test_pred)\n",
        "knn_test_mcc = matthews_corrcoef(Y_test, y_test_pred)\n",
        "knn_test_f1 = f1_score(Y_test, y_test_pred, pos_label='anomaly', average='binary')\n",
        "precision, recall, fscore , support = score(Y_test, y_test_pred, pos_label='anomaly', average='binary')\n",
        "\n",
        "print('Training set')\n",
        "print('Precision: {}, recall: {}'.format(precision_train, recall_train))\n",
        "print('Accuracy: {}\\nMCC: {},\\nF1 Score: {}'.format(knn_train_accuracy, knn_train_mcc, knn_train_f1))\n",
        "print('----------------------------------')\n",
        "print('Test Set')\n",
        "print('Precision: {}, recall: {}'.format(precision, recall))\n",
        "print('Accuracy: {}\\nMCC: {},\\nF1 Score: {}'.format(knn_test_accuracy, knn_test_mcc, knn_test_f1))"
      ],
      "execution_count": null,
      "outputs": [
        {
          "output_type": "stream",
          "name": "stdout",
          "text": [
            "Training set\n",
            "Precision: 1.0, recall: 1.0\n",
            "Accuracy: 1.0\n",
            "MCC: 1.0,\n",
            "F1 Score: 1.0\n",
            "----------------------------------\n",
            "Test Set\n",
            "Precision: 0.9968526466380544, recall: 0.9959977129788451\n",
            "Accuracy: 0.9966922466260916\n",
            "MCC: 0.9933476333583944,\n",
            "F1 Score: 0.9964249964249965\n"
          ]
        }
      ]
    },
    {
      "cell_type": "code",
      "metadata": {
        "colab": {
          "base_uri": "https://localhost:8080/",
          "height": 299
        },
        "id": "xVbifcAdRv09",
        "outputId": "ba5a1d65-3148-4f3a-8709-d0e8c286086c"
      },
      "source": [
        "plot_confusion_matrix(knn, X_test, Y_test, values_format='d')"
      ],
      "execution_count": null,
      "outputs": [
        {
          "output_type": "execute_result",
          "data": {
            "text/plain": [
              "<sklearn.metrics._plot.confusion_matrix.ConfusionMatrixDisplay at 0x7fc09e621110>"
            ]
          },
          "metadata": {},
          "execution_count": 59
        },
        {
          "output_type": "display_data",
          "data": {
            "image/png": "[encoded data removed]",
            "text/plain": [
              "<Figure size 792x288 with 2 Axes>"
            ]
          },
          "metadata": {
            "needs_background": "light"
          }
        }
      ]
    },
    {
      "cell_type": "markdown",
      "metadata": {
        "id": "RQblFBEduhVQ"
      },
      "source": [
        "## XG Boost"
      ]
    },
    {
      "cell_type": "code",
      "metadata": {
        "colab": {
          "base_uri": "https://localhost:8080/",
          "height": 549
        },
        "id": "4oczqvURvzHS",
        "outputId": "e8019bc7-0460-4911-cc50-4e0cf284eb68"
      },
      "source": [
        "import xgboost as xgb\n",
        "\n",
        "xgb_model = xgb.XGBClassifier()\n",
        "xgb_model.fit(X_train, Y_train)\n",
        "\n",
        "y_train_pred = xgb_model.predict(X_train)\n",
        "y_test_pred = xgb_model.predict(X_test)\n",
        "\n",
        "xgb_model_train_accuracy = accuracy_score(Y_train, y_train_pred)\n",
        "xgb_model_test_accuracy = accuracy_score(Y_test, y_test_pred)\n",
        "xgb_model_train_f1 = f1_score(Y_test, y_test_pred, pos_label='normal', average='binary')\n",
        "print('---Testing Dataset---')\n",
        "print('Accuracy: {}'.format(xgb_model_train_accuracy))\n",
        "print('\\tF1 Score: {}'.format(xgb_model_train_f1))\n",
        "\n",
        "xgb_model_test_accuracy = accuracy_score(Y_test, y_test_pred)\n",
        "xgb_model_test_mcc = matthews_corrcoef(Y_test, y_test_pred)\n",
        "xgb_model_test_f1 = f1_score(Y_test, y_test_pred, pos_label='anomaly', average='binary')\n",
        "precision, recall, fscore , support = score(Y_test, y_test_pred, pos_label='anomaly', average='binary')\n",
        "print('\\n\\n---Testing Dataset---')\n",
        "print('Precision: {}, \\n\\trecall: {}'.format(precision, recall))\n",
        "print('Accuracy: {}\\n\\tMCC: {},\\n\\tF1 Score: {}'.format(xgb_model_test_accuracy, xgb_model_test_mcc, xgb_model_test_f1))\n",
        "\n",
        "print('\\n\\n---Confusion Matrix---')\n",
        "plot_confusion_matrix(xgb_model, X_test, Y_test, values_format='d')"
      ],
      "execution_count": null,
      "outputs": [
        {
          "output_type": "stream",
          "name": "stdout",
          "text": [
            "---Testing Dataset---\n",
            "Accuracy: 0.9965407735057276\n",
            "\tF1 Score: 0.9948275862068966\n",
            "\n",
            "\n",
            "---Testing Dataset---\n",
            "Precision: 0.9939965694682675, \n",
            "\trecall: 0.9939965694682675\n",
            "Accuracy: 0.9944429743318338\n",
            "\tMCC: 0.9888241556751641,\n",
            "\tF1 Score: 0.9939965694682675\n",
            "\n",
            "\n",
            "---Confusion Matrix---\n"
          ]
        },
        {
          "output_type": "execute_result",
          "data": {
            "text/plain": [
              "<sklearn.metrics._plot.confusion_matrix.ConfusionMatrixDisplay at 0x7fc09e483b90>"
            ]
          },
          "metadata": {},
          "execution_count": 60
        },
        {
          "output_type": "display_data",
          "data": {
            "image/png": "[encoded data removed]",
            "text/plain": [
              "<Figure size 792x288 with 2 Axes>"
            ]
          },
          "metadata": {
            "needs_background": "light"
          }
        }
      ]
    },
    {
      "cell_type": "markdown",
      "metadata": {
        "id": "BS14euqmazk9"
      },
      "source": [
        "## Ada Boost"
      ]
    },
    {
      "cell_type": "code",
      "metadata": {
        "colab": {
          "base_uri": "https://localhost:8080/"
        },
        "id": "5STDAjyDTV4W",
        "outputId": "2d1e21e9-2e32-4a3e-cc63-41a6589036b8"
      },
      "source": [
        "from sklearn.ensemble import AdaBoostClassifier\n",
        "\n",
        "Ada = AdaBoostClassifier()\n",
        "Ada.fit(X_train, Y_train)\n",
        "\n",
        "y_train_pred = Ada.predict(X_train)\n",
        "y_test_pred = Ada.predict(X_test)\n",
        "\n",
        "Ada_train_accuracy = accuracy_score(Y_train, y_train_pred)\n",
        "Ada_train_mcc = matthews_corrcoef(Y_train, y_train_pred)\n",
        "Ada_train_f1 = f1_score(Y_train, y_train_pred, average='weighted') \n",
        "precision_train, recall_train, fscore_train, support_train = score(Y_train, y_train_pred, pos_label='anomaly', average='binary')\n",
        "\n",
        "Ada_test_accuracy = accuracy_score(Y_test, y_test_pred)\n",
        "Ada_test_mcc = matthews_corrcoef(Y_test, y_test_pred)\n",
        "Ada_test_f1 = f1_score(Y_test, y_test_pred, average='weighted')\n",
        "precision, recall, fscore , support = score(Y_test, y_test_pred, pos_label='anomaly', average='binary')\n",
        "\n",
        "print('----------------------------------')\n",
        "print('Training set')\n",
        "print('Precision: {}, recall: {}'.format(precision_train, recall_train))\n",
        "print('Accuracy: {}\\nMCC: {},\\nF1 Score: {}'.format(Ada_train_accuracy, Ada_train_mcc, Ada_train_f1))\n",
        "print('----------------------------------')\n",
        "print('Test Set')\n",
        "print('Precision: {}, recall: {}'.format(precision, recall))\n",
        "print('Accuracy: {}\\nMCC: {},\\nF1 Score: {}'.format(Ada_test_accuracy, Ada_test_mcc, Ada_test_f1))"
      ],
      "execution_count": null,
      "outputs": [
        {
          "output_type": "stream",
          "name": "stdout",
          "text": [
            "----------------------------------\n",
            "Training set\n",
            "Precision: 0.9897473452947638, recall: 0.9835051546391752\n",
            "Accuracy: 0.9875241011681978\n",
            "MCC: 0.9749502245632361,\n",
            "F1 Score: 0.9875215944410092\n",
            "----------------------------------\n",
            "Test Set\n",
            "Precision: 0.989105504587156, recall: 0.9862778730703259\n",
            "Accuracy: 0.9886213283937549\n",
            "MCC: 0.9771150601550196,\n",
            "F1 Score: 0.9886201824363755\n"
          ]
        }
      ]
    },
    {
      "cell_type": "code",
      "metadata": {
        "colab": {
          "base_uri": "https://localhost:8080/",
          "height": 300
        },
        "id": "WCvz4pSdT4Lg",
        "outputId": "943adbbd-24b0-4b8c-b8b6-1bbb2aaeab68"
      },
      "source": [
        "plot_confusion_matrix(Ada, X_test, Y_test, values_format='d')"
      ],
      "execution_count": null,
      "outputs": [
        {
          "output_type": "execute_result",
          "data": {
            "text/plain": [
              "<sklearn.metrics._plot.confusion_matrix.ConfusionMatrixDisplay at 0x7fc08c1d2a50>"
            ]
          },
          "metadata": {},
          "execution_count": 62
        },
        {
          "output_type": "display_data",
          "data": {
            "image/png": "[encoded data removed]",
            "text/plain": [
              "<Figure size 792x288 with 2 Axes>"
            ]
          },
          "metadata": {
            "needs_background": "light"
          }
        }
      ]
    },
    {
      "cell_type": "markdown",
      "metadata": {
        "id": "JjFiTMtocIoM"
      },
      "source": [
        "## Support Vector Machine"
      ]
    },
    {
      "cell_type": "code",
      "metadata": {
        "colab": {
          "base_uri": "https://localhost:8080/"
        },
        "id": "5LwnmSj2cGzU",
        "outputId": "9c167750-ae09-43f2-d5b0-80af4755b486"
      },
      "source": [
        "from sklearn.svm import SVC\n",
        "\n",
        "svm = SVC(probability=True)\n",
        "svm.fit(X_train, Y_train)\n",
        "\n",
        "y_train_pred = svm.predict(X_train)\n",
        "y_test_pred = svm.predict(X_test)\n",
        "\n",
        "svm_train_accuracy = accuracy_score(Y_train, y_train_pred)\n",
        "svm_train_mcc = matthews_corrcoef(Y_train, y_train_pred)\n",
        "svm_train_f1 = f1_score(Y_train, y_train_pred, pos_label='anomaly', average='binary')\n",
        "precision_train, recall_train, fscore_train, support_train = score(Y_train, y_train_pred, pos_label='anomaly', average='binary')\n",
        "\n",
        "svm_test_accuracy = accuracy_score(Y_test, y_test_pred)\n",
        "svm_test_mcc = matthews_corrcoef(Y_test, y_test_pred)\n",
        "svm_test_f1 = f1_score(Y_test, y_test_pred, pos_label='anomaly', average='binary')\n",
        "precision, recall, fscore , support = score(Y_test, y_test_pred, pos_label='anomaly', average='binary')\n",
        "\n",
        "print('Training set')\n",
        "print('Precision: {}, recall: {}'.format(precision_train, recall_train))\n",
        "print('Accuracy: {}\\nMCC: {},\\nF1 Score: {}'.format(svm_train_accuracy, svm_train_mcc, svm_train_f1))\n",
        "print('----------------------------------')\n",
        "print('Test Set')\n",
        "print('Precision: {}, recall: {}'.format(precision, recall))\n",
        "print('Accuracy: {}\\nMCC: {},\\nF1 Score: {}'.format(svm_test_accuracy, svm_test_mcc, svm_test_f1))"
      ],
      "execution_count": null,
      "outputs": [
        {
          "output_type": "stream",
          "name": "stdout",
          "text": [
            "Training set\n",
            "Precision: 0.9855406269993602, recall: 0.9341419041843542\n",
            "Accuracy: 0.962799138028808\n",
            "MCC: 0.9261641841292572,\n",
            "F1 Score: 0.9591531755915318\n",
            "----------------------------------\n",
            "Test Set\n",
            "Precision: 0.986144578313253, recall: 0.9359634076615209\n",
            "Accuracy: 0.9642762635617889\n",
            "MCC: 0.9289513258969672,\n",
            "F1 Score: 0.9603989439718392\n"
          ]
        }
      ]
    },
    {
      "cell_type": "code",
      "metadata": {
        "colab": {
          "base_uri": "https://localhost:8080/",
          "height": 301
        },
        "id": "vsAmdQOWc-WM",
        "outputId": "b3896092-1038-4bca-d5ec-3aada6de107c"
      },
      "source": [
        "plot_confusion_matrix(svm, X_test, Y_test, values_format='d')"
      ],
      "execution_count": null,
      "outputs": [
        {
          "output_type": "execute_result",
          "data": {
            "text/plain": [
              "<sklearn.metrics._plot.confusion_matrix.ConfusionMatrixDisplay at 0x7fc0a7328fd0>"
            ]
          },
          "metadata": {},
          "execution_count": 64
        },
        {
          "output_type": "display_data",
          "data": {
            "image/png": "[encoded data removed]",
            "text/plain": [
              "<Figure size 792x288 with 2 Axes>"
            ]
          },
          "metadata": {
            "needs_background": "light"
          }
        }
      ]
    },
    {
      "cell_type": "markdown",
      "metadata": {
        "id": "aK9rT9gbYvKD"
      },
      "source": [
        "## Ensemble Learner"
      ]
    },
    {
      "cell_type": "markdown",
      "metadata": {
        "id": "WqO8NPFIVVWM"
      },
      "source": [
        "## Voting Classifier"
      ]
    },
    {
      "cell_type": "code",
      "metadata": {
        "colab": {
          "base_uri": "https://localhost:8080/"
        },
        "id": "rHZZy-h2s9Oh",
        "outputId": "046c7645-fceb-4154-c71d-b77682a5d689"
      },
      "source": [
        "# Voting Ensemble for Classification\n",
        "import pandas\n",
        "from sklearn import model_selection\n",
        "from sklearn.linear_model import LogisticRegression\n",
        "from sklearn.tree import DecisionTreeClassifier\n",
        "from sklearn.svm import SVC\n",
        "from sklearn.ensemble import VotingClassifier\n",
        "\n",
        "# create the sub models\n",
        "estimator_list = [\n",
        "    ('xgb', xgb_model),\n",
        "    ('knn',knn),\n",
        "    ('svm',svm),\n",
        "    # ('dt',dt),\n",
        "    ('rf',rf),\n",
        "    ('Ada',Ada)] \n",
        "\n",
        "ensemble = VotingClassifier(estimator_list, voting='soft')\n",
        "results = model_selection.cross_val_score(ensemble, X_train, Y_train)\n",
        "ensemble.fit(X_train, Y_train)\n",
        "y_train_pred = ensemble.predict(X_train)\n",
        "y_test_pred = ensemble.predict(X_test)\n",
        "\n",
        "ensemble_model_train_accuracy = accuracy_score(Y_train, y_train_pred)\n",
        "ensemble_model_train_mcc = matthews_corrcoef(Y_train, y_train_pred)\n",
        "ensemble_model_train_f1 = f1_score(Y_train, y_train_pred, average='weighted')\n",
        "precision_train, recall_train, fscore_train, support_train = score(Y_train, y_train_pred, pos_label='anomaly', average='binary')\n",
        "\n",
        "ensemble_model_test_accuracy = accuracy_score(Y_test, y_test_pred)\n",
        "ensemble_model_test_mcc = matthews_corrcoef(Y_test, y_test_pred)\n",
        "ensemble_model_test_f1 = f1_score(Y_test, y_test_pred, average='weighted')\n",
        "precision, recall, fscore , support = score(Y_test, y_test_pred, pos_label='anomaly', average='binary')\n",
        " \n",
        "print('\\nTraining set')\n",
        "print('Precision: {}, recall: {}'.format(precision_train, recall_train))\n",
        "print('Accuracy: {}\\nMCC: {},\\nF1 Score: {}'.format(ensemble_model_train_accuracy, ensemble_model_train_mcc, ensemble_model_train_f1))\n",
        "print('----------------------------------')\n",
        "print('Test Set')\n",
        "print('Precision: {}, recall: {}'.format(precision, recall))\n",
        "print('Accuracy: {}\\nMCC: {},\\nF1 Score: {}'.format(ensemble_model_test_accuracy, ensemble_model_test_mcc, ensemble_model_test_f1))"
      ],
      "execution_count": null,
      "outputs": [
        {
          "output_type": "stream",
          "name": "stdout",
          "text": [
            "\n",
            "Training set\n",
            "Precision: 0.9993906897392152, recall: 0.9946634323832626\n",
            "Accuracy: 0.9972212770783714\n",
            "MCC: 0.9944272730874719,\n",
            "F1 Score: 0.9972208629338619\n",
            "----------------------------------\n",
            "Test Set\n",
            "Precision: 0.996553704767375, recall: 0.9919954259576901\n",
            "Accuracy: 0.9947075946017465\n",
            "MCC: 0.9893619404341452,\n",
            "F1 Score: 0.9947067327460385\n"
          ]
        }
      ]
    },
    {
      "cell_type": "code",
      "metadata": {
        "colab": {
          "base_uri": "https://localhost:8080/",
          "height": 299
        },
        "id": "GgrbfvoDjn2U",
        "outputId": "b8c83a78-b6f8-40fa-f11b-5fbbe45e0691"
      },
      "source": [
        "plot_confusion_matrix(ensemble, X_test, Y_test, values_format='d')"
      ],
      "execution_count": null,
      "outputs": [
        {
          "output_type": "execute_result",
          "data": {
            "text/plain": [
              "<sklearn.metrics._plot.confusion_matrix.ConfusionMatrixDisplay at 0x7fc085ff6390>"
            ]
          },
          "metadata": {},
          "execution_count": 66
        },
        {
          "output_type": "display_data",
          "data": {
            "image/png": "[encoded data removed]",
            "text/plain": [
              "<Figure size 792x288 with 2 Axes>"
            ]
          },
          "metadata": {
            "needs_background": "light"
          }
        }
      ]
    },
    {
      "cell_type": "markdown",
      "metadata": {
        "id": "kYg-LXlLav6X"
      },
      "source": [
        "## Stacking Classifier"
      ]
    },
    {
      "cell_type": "code",
      "metadata": {
        "colab": {
          "base_uri": "https://localhost:8080/"
        },
        "id": "y8CFpfbSP7G4",
        "outputId": "25646bb5-5b27-46d9-de24-fc5c04696dfd"
      },
      "source": [
        "from sklearn.ensemble import StackingClassifier\n",
        "from sklearn.linear_model import LogisticRegression\n",
        "# Voting Ensemble for Classification\n",
        "import pandas\n",
        "from sklearn import model_selection\n",
        "from sklearn.linear_model import LogisticRegression\n",
        "from sklearn.tree import DecisionTreeClassifier\n",
        "from sklearn.svm import SVC\n",
        "from sklearn.ensemble import VotingClassifier\n",
        "estimator_list = [\n",
        "    ('xgb', xgb_model),\n",
        "    ('knn', knn),\n",
        "    ('svm',svm),\n",
        "    # ('dt',dt),\n",
        "    ('rf',rf),\n",
        "    ('Ada',Ada) \n",
        "    ]\n",
        "\n",
        "stack_model = StackingClassifier(\n",
        "    estimators=estimator_list, final_estimator=LogisticRegression()\n",
        ")\n",
        "\n",
        "stack_model.fit(X_train, Y_train)\n",
        "y_train_pred = stack_model.predict(X_train)\n",
        "y_test_pred = stack_model.predict(X_test)\n",
        "\n",
        "stack_model_train_accuracy = accuracy_score(Y_train, y_train_pred)\n",
        "stack_model_train_mcc = matthews_corrcoef(Y_train, y_train_pred)\n",
        "stack_model_train_f1 = f1_score(Y_train, y_train_pred, average='weighted')\n",
        "precision_train, recall_train, fscore_train, support_train = score(Y_train, y_train_pred, pos_label='anomaly', average='binary')\n",
        "\n",
        "stack_model_test_accuracy = accuracy_score(Y_test, y_test_pred)\n",
        "stack_model_test_mcc = matthews_corrcoef(Y_test, y_test_pred)\n",
        "stack_model_test_f1 = f1_score(Y_test, y_test_pred, average='weighted')\n",
        "precision, recall, fscore , support = score(Y_test, y_test_pred, pos_label='anomaly', average='binary')\n",
        "\n",
        "print('----------------------------------')\n",
        "print('\\nTraining set')\n",
        "print(stack_model_train_accuracy)\n",
        "print('Precision: {}, recall: {}'.format(precision_train, recall_train))\n",
        "print('Accuracy: {}\\nMCC: {},\\nF1 Score: {}'.format(stack_model_train_accuracy, stack_model_train_mcc, stack_model_train_f1))\n",
        "print('----------------------------------')\n",
        "print('Test Set')\n",
        "print(stack_model_test_accuracy)\n",
        "print('Precision: {}, recall: {}'.format(precision, recall))\n",
        "print('Accuracy: {}\\nMCC: {},\\nF1 Score: {}'.format(stack_model_test_accuracy, stack_model_test_mcc, stack_model_test_f1))"
      ],
      "execution_count": null,
      "outputs": [
        {
          "output_type": "stream",
          "name": "stdout",
          "text": [
            "----------------------------------\n",
            "\n",
            "Training set\n",
            "1.0\n",
            "Precision: 1.0, recall: 1.0\n",
            "Accuracy: 1.0\n",
            "MCC: 1.0,\n",
            "F1 Score: 1.0\n",
            "----------------------------------\n",
            "Test Set\n",
            "0.9966922466260916\n",
            "Precision: 0.9962846527579309, recall: 0.9965694682675815\n",
            "Accuracy: 0.9966922466260916\n",
            "MCC: 0.9933478784971895,\n",
            "F1 Score: 0.9966922792910091\n"
          ]
        }
      ]
    },
    {
      "cell_type": "code",
      "metadata": {
        "colab": {
          "base_uri": "https://localhost:8080/",
          "height": 299
        },
        "id": "nkIQaPFORkRg",
        "outputId": "a7e8e4f6-2209-4721-d431-a1bbc42a342b"
      },
      "source": [
        "plot_confusion_matrix(stack_model, X_test, Y_test, values_format='d')"
      ],
      "execution_count": null,
      "outputs": [
        {
          "output_type": "execute_result",
          "data": {
            "text/plain": [
              "<sklearn.metrics._plot.confusion_matrix.ConfusionMatrixDisplay at 0x7fc0c4023c50>"
            ]
          },
          "metadata": {},
          "execution_count": 68
        },
        {
          "output_type": "display_data",
          "data": {
            "image/png": "[encoded data removed]",
            "text/plain": [
              "<Figure size 792x288 with 2 Axes>"
            ]
          },
          "metadata": {
            "needs_background": "light"
          }
        }
      ]
    },
    {
      "cell_type": "markdown",
      "metadata": {
        "id": "VHMT0G7hh9xw"
      },
      "source": [
        "## Saving the models"
      ]
    },
    {
      "cell_type": "code",
      "metadata": {
        "id": "nGbM_SQSY63I"
      },
      "source": [
        "!mkdir Models"
      ],
      "execution_count": null,
      "outputs": []
    },
    {
      "cell_type": "code",
      "metadata": {
        "id": "q4xr-H5Phj-H"
      },
      "source": [
        "pickle.dump(svm, open('/content/Models/svm_model.sav', 'wb'))\n",
        "pickle.dump(xgb_model, open('/content/Models/xgb_model.sav', 'wb'))\n",
        "pickle.dump(knn, open('/content/Models/knn_model.sav', 'wb'))\n",
        "pickle.dump(rf, open('/content/Models/rf_model.sav', 'wb'))\n",
        "pickle.dump(Ada, open('/content/Models/Ada_model.sav', 'wb'))\n",
        "pickle.dump(stack_model, open('/content/Models/stack_model.sav', 'wb'))\n",
        "pickle.dump(xgb_model, open('/content/Models/xgb_model.sav', 'wb'))\n",
        "pickle.dump(ensemble, open('/content/Models/voting.sav', 'wb'))\n",
        "pickle.dump(ensemble, open('/content/Models/nb_model.sav', 'wb'))"
      ],
      "execution_count": null,
      "outputs": []
    },
    {
      "cell_type": "code",
      "metadata": {
        "id": "8s3JUTGEaEsQ"
      },
      "source": [
        "## Making randomly Created single predictions"
      ],
      "execution_count": null,
      "outputs": []
    },
    {
      "cell_type": "code",
      "metadata": {
        "id": "Zh8celq6DvV5"
      },
      "source": [
        "def Pre_To_Predict(To_predict):\n",
        "  scaler1 = pickle.load(open('/content/scaler.pkl','rb'))\n",
        "  single_col = To_predict.select_dtypes(include=['float64', 'int64']).columns\n",
        "  To_predict1 = scaler1.transform(To_predict.select_dtypes(include=['float64', 'int64'])) \n",
        "  To_predict1 = pd.DataFrame(To_predict1, columns = single_col)\n",
        "  To_predict2_col = To_predict.select_dtypes(include=['object']).columns\n",
        "\n",
        "  encoder_service = LabelEncoder()\n",
        "  encoder_service.fit(['IRC', 'X11', 'Z39_50', 'auth', 'bgp', 'courier', 'csnet_ns',\n",
        "        'ctf', 'daytime', 'discard', 'domain', 'domain_u', 'echo', 'eco_i',\n",
        "        'ecr_i', 'efs', 'exec', 'finger', 'ftp', 'ftp_data', 'gopher',\n",
        "        'hostnames', 'http', 'http_443', 'http_8001', 'imap5', 'iso_tsap',\n",
        "        'klogin', 'kshell', 'ldap', 'link', 'login', 'mtp', 'name',\n",
        "        'netbios_dgm', 'netbios_ns', 'netbios_ssn', 'netstat', 'nnsp',\n",
        "        'nntp', 'ntp_u', 'other', 'pm_dump', 'pop_2', 'pop_3', 'printer',\n",
        "        'private', 'red_i', 'remote_job', 'rje', 'shell', 'smtp',\n",
        "        'sql_net', 'ssh', 'sunrpc', 'supdup', 'systat', 'telnet', 'tim_i',\n",
        "        'time', 'urh_i', 'urp_i', 'uucp', 'uucp_path', 'vmnet', 'whois'])\n",
        "  encoder_protocol_type = LabelEncoder()\n",
        "  encoder_protocol_type.fit(['icmp', 'tcp', 'udp'])\n",
        "  encoder_flag = LabelEncoder()\n",
        "  encoder_flag.fit(['OTH', 'REJ', 'RSTO', 'RSTOS0', 'RSTR', 'S0', 'S1', 'S2', 'S3',\n",
        "       'SF', 'SH'])\n",
        "  \n",
        "  array_service = encoder_service.transform(To_predict['service'].values)\n",
        "  array_protocol = encoder_protocol_type.transform(To_predict['protocol_type'].values)\n",
        "  array_flag = encoder_flag.transform(To_predict['flag'].values)\n",
        "  array_service, array_protocol, array_flag\n",
        "\n",
        "  full_array = np.array([[array_protocol[0],array_service[0],array_flag[0]]])\n",
        "  To_predict2 = pd.DataFrame(full_array, columns=To_predict2_col)\n",
        "  Final_to_predict = pd.concat([To_predict1,To_predict2],axis=1)\n",
        "\n",
        "  return Final_to_predict"
      ],
      "execution_count": null,
      "outputs": []
    },
    {
      "cell_type": "code",
      "metadata": {
        "colab": {
          "base_uri": "https://localhost:8080/",
          "height": 154
        },
        "id": "uwKHqfdzcQ-J",
        "outputId": "7c72bbdf-e502-42e7-9cb6-db8bbb413305"
      },
      "source": [
        "To_predict = test.sample(1)\n",
        "try:\n",
        "  print(To_predict['class'])\n",
        "  To_predict = To_predict.drop('class', axis=1)\n",
        "  print()\n",
        "except:\n",
        "  print('No Class')\n",
        "  print()\n",
        "\n",
        "To_predict"
      ],
      "execution_count": null,
      "outputs": [
        {
          "output_type": "stream",
          "name": "stdout",
          "text": [
            "605    anomaly\n",
            "Name: class, dtype: object\n",
            "\n"
          ]
        },
        {
          "output_type": "execute_result",
          "data": {
            "text/html": [
              "<div>\n",
              "<style scoped>\n",
              "    .dataframe tbody tr th:only-of-type {\n",
              "        vertical-align: middle;\n",
              "    }\n",
              "\n",
              "    .dataframe tbody tr th {\n",
              "        vertical-align: top;\n",
              "    }\n",
              "\n",
              "    .dataframe thead th {\n",
              "        text-align: right;\n",
              "    }\n",
              "</style>\n",
              "<table border=\"1\" class=\"dataframe\">\n",
              "  <thead>\n",
              "    <tr style=\"text-align: right;\">\n",
              "      <th></th>\n",
              "      <th>duration</th>\n",
              "      <th>protocol_type</th>\n",
              "      <th>service</th>\n",
              "      <th>flag</th>\n",
              "      <th>src_bytes</th>\n",
              "      <th>dst_bytes</th>\n",
              "      <th>land</th>\n",
              "      <th>wrong_fragment</th>\n",
              "      <th>urgent</th>\n",
              "      <th>hot</th>\n",
              "      <th>num_failed_logins</th>\n",
              "      <th>logged_in</th>\n",
              "      <th>num_compromised</th>\n",
              "      <th>root_shell</th>\n",
              "      <th>su_attempted</th>\n",
              "      <th>num_root</th>\n",
              "      <th>num_file_creations</th>\n",
              "      <th>num_shells</th>\n",
              "      <th>num_access_files</th>\n",
              "      <th>num_outbound_cmds</th>\n",
              "      <th>is_host_login</th>\n",
              "      <th>is_guest_login</th>\n",
              "      <th>count</th>\n",
              "      <th>srv_count</th>\n",
              "      <th>serror_rate</th>\n",
              "      <th>srv_serror_rate</th>\n",
              "      <th>rerror_rate</th>\n",
              "      <th>srv_rerror_rate</th>\n",
              "      <th>same_srv_rate</th>\n",
              "      <th>diff_srv_rate</th>\n",
              "      <th>srv_diff_host_rate</th>\n",
              "      <th>dst_host_count</th>\n",
              "      <th>dst_host_srv_count</th>\n",
              "      <th>dst_host_same_srv_rate</th>\n",
              "      <th>dst_host_diff_srv_rate</th>\n",
              "      <th>dst_host_same_src_port_rate</th>\n",
              "      <th>dst_host_srv_diff_host_rate</th>\n",
              "      <th>dst_host_serror_rate</th>\n",
              "      <th>dst_host_srv_serror_rate</th>\n",
              "      <th>dst_host_rerror_rate</th>\n",
              "      <th>dst_host_srv_rerror_rate</th>\n",
              "    </tr>\n",
              "  </thead>\n",
              "  <tbody>\n",
              "    <tr>\n",
              "      <th>605</th>\n",
              "      <td>13488</td>\n",
              "      <td>tcp</td>\n",
              "      <td>other</td>\n",
              "      <td>RSTR</td>\n",
              "      <td>1</td>\n",
              "      <td>0</td>\n",
              "      <td>0</td>\n",
              "      <td>0</td>\n",
              "      <td>0</td>\n",
              "      <td>0</td>\n",
              "      <td>0</td>\n",
              "      <td>0</td>\n",
              "      <td>0</td>\n",
              "      <td>0</td>\n",
              "      <td>0</td>\n",
              "      <td>0</td>\n",
              "      <td>0</td>\n",
              "      <td>0</td>\n",
              "      <td>0</td>\n",
              "      <td>0</td>\n",
              "      <td>0</td>\n",
              "      <td>0</td>\n",
              "      <td>2</td>\n",
              "      <td>2</td>\n",
              "      <td>0.0</td>\n",
              "      <td>0.0</td>\n",
              "      <td>1.0</td>\n",
              "      <td>1.0</td>\n",
              "      <td>1.0</td>\n",
              "      <td>0.0</td>\n",
              "      <td>0.0</td>\n",
              "      <td>255</td>\n",
              "      <td>2</td>\n",
              "      <td>0.01</td>\n",
              "      <td>0.68</td>\n",
              "      <td>1.0</td>\n",
              "      <td>0.0</td>\n",
              "      <td>0.0</td>\n",
              "      <td>0.0</td>\n",
              "      <td>1.0</td>\n",
              "      <td>1.0</td>\n",
              "    </tr>\n",
              "  </tbody>\n",
              "</table>\n",
              "</div>"
            ],
            "text/plain": [
              "     duration protocol_type service  flag  src_bytes  dst_bytes  land  \\\n",
              "605     13488           tcp   other  RSTR          1          0     0   \n",
              "\n",
              "     wrong_fragment  urgent  hot  num_failed_logins  logged_in  \\\n",
              "605               0       0    0                  0          0   \n",
              "\n",
              "     num_compromised  root_shell  su_attempted  num_root  num_file_creations  \\\n",
              "605                0           0             0         0                   0   \n",
              "\n",
              "     num_shells  num_access_files  num_outbound_cmds  is_host_login  \\\n",
              "605           0                 0                  0              0   \n",
              "\n",
              "     is_guest_login  count  srv_count  serror_rate  srv_serror_rate  \\\n",
              "605               0      2          2          0.0              0.0   \n",
              "\n",
              "     rerror_rate  srv_rerror_rate  same_srv_rate  diff_srv_rate  \\\n",
              "605          1.0              1.0            1.0            0.0   \n",
              "\n",
              "     srv_diff_host_rate  dst_host_count  dst_host_srv_count  \\\n",
              "605                 0.0             255                   2   \n",
              "\n",
              "     dst_host_same_srv_rate  dst_host_diff_srv_rate  \\\n",
              "605                    0.01                    0.68   \n",
              "\n",
              "     dst_host_same_src_port_rate  dst_host_srv_diff_host_rate  \\\n",
              "605                          1.0                          0.0   \n",
              "\n",
              "     dst_host_serror_rate  dst_host_srv_serror_rate  dst_host_rerror_rate  \\\n",
              "605                   0.0                       0.0                   1.0   \n",
              "\n",
              "     dst_host_srv_rerror_rate  \n",
              "605                       1.0  "
            ]
          },
          "metadata": {},
          "execution_count": 71
        }
      ]
    },
    {
      "cell_type": "code",
      "metadata": {
        "id": "hi-LKa89E0Cl",
        "colab": {
          "base_uri": "https://localhost:8080/",
          "height": 101
        },
        "outputId": "356af61a-c002-4060-dbd9-936e00d6d1ae"
      },
      "source": [
        "try:\n",
        "  train_d = Pre_To_Predict(To_predict=To_predict)\n",
        "  train_d\n",
        "except:\n",
        "  print('Sorry I haven\\'t seen something like this before\\nSo I cannot predict')"
      ],
      "execution_count": null,
      "outputs": [
        {
          "output_type": "execute_result",
          "data": {
            "text/html": [
              "<div>\n",
              "<style scoped>\n",
              "    .dataframe tbody tr th:only-of-type {\n",
              "        vertical-align: middle;\n",
              "    }\n",
              "\n",
              "    .dataframe tbody tr th {\n",
              "        vertical-align: top;\n",
              "    }\n",
              "\n",
              "    .dataframe thead th {\n",
              "        text-align: right;\n",
              "    }\n",
              "</style>\n",
              "<table border=\"1\" class=\"dataframe\">\n",
              "  <thead>\n",
              "    <tr style=\"text-align: right;\">\n",
              "      <th></th>\n",
              "      <th>duration</th>\n",
              "      <th>src_bytes</th>\n",
              "      <th>dst_bytes</th>\n",
              "      <th>land</th>\n",
              "      <th>wrong_fragment</th>\n",
              "      <th>urgent</th>\n",
              "      <th>hot</th>\n",
              "      <th>num_failed_logins</th>\n",
              "      <th>logged_in</th>\n",
              "      <th>num_compromised</th>\n",
              "      <th>root_shell</th>\n",
              "      <th>su_attempted</th>\n",
              "      <th>num_root</th>\n",
              "      <th>num_file_creations</th>\n",
              "      <th>num_shells</th>\n",
              "      <th>num_access_files</th>\n",
              "      <th>num_outbound_cmds</th>\n",
              "      <th>is_host_login</th>\n",
              "      <th>is_guest_login</th>\n",
              "      <th>count</th>\n",
              "      <th>srv_count</th>\n",
              "      <th>serror_rate</th>\n",
              "      <th>srv_serror_rate</th>\n",
              "      <th>rerror_rate</th>\n",
              "      <th>srv_rerror_rate</th>\n",
              "      <th>same_srv_rate</th>\n",
              "      <th>diff_srv_rate</th>\n",
              "      <th>srv_diff_host_rate</th>\n",
              "      <th>dst_host_count</th>\n",
              "      <th>dst_host_srv_count</th>\n",
              "      <th>dst_host_same_srv_rate</th>\n",
              "      <th>dst_host_diff_srv_rate</th>\n",
              "      <th>dst_host_same_src_port_rate</th>\n",
              "      <th>dst_host_srv_diff_host_rate</th>\n",
              "      <th>dst_host_serror_rate</th>\n",
              "      <th>dst_host_srv_serror_rate</th>\n",
              "      <th>dst_host_rerror_rate</th>\n",
              "      <th>dst_host_srv_rerror_rate</th>\n",
              "      <th>protocol_type</th>\n",
              "      <th>service</th>\n",
              "      <th>flag</th>\n",
              "    </tr>\n",
              "  </thead>\n",
              "  <tbody>\n",
              "    <tr>\n",
              "      <th>0</th>\n",
              "      <td>0.0</td>\n",
              "      <td>0.0</td>\n",
              "      <td>0.0</td>\n",
              "      <td>0.0</td>\n",
              "      <td>0.0</td>\n",
              "      <td>0.0</td>\n",
              "      <td>0.0</td>\n",
              "      <td>0.0</td>\n",
              "      <td>0.0</td>\n",
              "      <td>0.0</td>\n",
              "      <td>0.0</td>\n",
              "      <td>0.0</td>\n",
              "      <td>0.0</td>\n",
              "      <td>0.0</td>\n",
              "      <td>0.0</td>\n",
              "      <td>0.0</td>\n",
              "      <td>0.0</td>\n",
              "      <td>0.0</td>\n",
              "      <td>0.0</td>\n",
              "      <td>0.0</td>\n",
              "      <td>0.0</td>\n",
              "      <td>0.0</td>\n",
              "      <td>0.0</td>\n",
              "      <td>0.0</td>\n",
              "      <td>0.0</td>\n",
              "      <td>0.0</td>\n",
              "      <td>0.0</td>\n",
              "      <td>0.0</td>\n",
              "      <td>0.0</td>\n",
              "      <td>0.0</td>\n",
              "      <td>0.0</td>\n",
              "      <td>0.0</td>\n",
              "      <td>0.0</td>\n",
              "      <td>0.0</td>\n",
              "      <td>0.0</td>\n",
              "      <td>0.0</td>\n",
              "      <td>0.0</td>\n",
              "      <td>0.0</td>\n",
              "      <td>1</td>\n",
              "      <td>41</td>\n",
              "      <td>4</td>\n",
              "    </tr>\n",
              "  </tbody>\n",
              "</table>\n",
              "</div>"
            ],
            "text/plain": [
              "   duration  src_bytes  dst_bytes  land  wrong_fragment  urgent  hot  \\\n",
              "0       0.0        0.0        0.0   0.0             0.0     0.0  0.0   \n",
              "\n",
              "   num_failed_logins  logged_in  num_compromised  root_shell  su_attempted  \\\n",
              "0                0.0        0.0              0.0         0.0           0.0   \n",
              "\n",
              "   num_root  num_file_creations  num_shells  num_access_files  \\\n",
              "0       0.0                 0.0         0.0               0.0   \n",
              "\n",
              "   num_outbound_cmds  is_host_login  is_guest_login  count  srv_count  \\\n",
              "0                0.0            0.0             0.0    0.0        0.0   \n",
              "\n",
              "   serror_rate  srv_serror_rate  rerror_rate  srv_rerror_rate  same_srv_rate  \\\n",
              "0          0.0              0.0          0.0              0.0            0.0   \n",
              "\n",
              "   diff_srv_rate  srv_diff_host_rate  dst_host_count  dst_host_srv_count  \\\n",
              "0            0.0                 0.0             0.0                 0.0   \n",
              "\n",
              "   dst_host_same_srv_rate  dst_host_diff_srv_rate  \\\n",
              "0                     0.0                     0.0   \n",
              "\n",
              "   dst_host_same_src_port_rate  dst_host_srv_diff_host_rate  \\\n",
              "0                          0.0                          0.0   \n",
              "\n",
              "   dst_host_serror_rate  dst_host_srv_serror_rate  dst_host_rerror_rate  \\\n",
              "0                   0.0                       0.0                   0.0   \n",
              "\n",
              "   dst_host_srv_rerror_rate  protocol_type  service  flag  \n",
              "0                       0.0              1       41     4  "
            ]
          },
          "metadata": {},
          "execution_count": 50
        }
      ]
    },
    {
      "cell_type": "code",
      "metadata": {
        "id": "cLySfw14mL43",
        "colab": {
          "base_uri": "https://localhost:8080/"
        },
        "outputId": "78143a94-18d1-4851-a986-6eb39d4a06a9"
      },
      "source": [
        "xgb_says = xgb_model.predict(train_d)\n",
        "knn_says = knn.predict(train_d)\n",
        "rf_says = rf.predict(train_d)\n",
        "svm_says = svm.predict(train_d)\n",
        "stack_says = stack_model.predict(train_d)\n",
        "ensemble_says = ensemble.predict(train_d)\n",
        "NB_says = NB_model.predict(train_d)\n",
        "\n",
        "print('--> NB says: {}'.format(NB_says[0]))\n",
        "print('--> xgb says: {}'.format(xgb_says[0]))\n",
        "print('--> knn says: {}'.format(knn_says[0]))\n",
        "print('--> rf says: {}'.format(rf_says[0]))\n",
        "print('--> svm says: {}'.format(svm_says[0]))\n",
        "print('\\n----------------Hybrid Learning----------------------')\n",
        "print('ensembler says: {}'.format(ensemble_says[0]))\n",
        "print('stack says: {}'.format(stack_says[0]))"
      ],
      "execution_count": null,
      "outputs": [
        {
          "output_type": "stream",
          "name": "stdout",
          "text": [
            "--> rf says: normal\n"
          ]
        }
      ]
    }
  ]
}